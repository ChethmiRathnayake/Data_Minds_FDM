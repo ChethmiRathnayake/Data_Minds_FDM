{
 "cells": [
  {
   "cell_type": "code",
   "execution_count": null,
   "id": "5ad53c06",
   "metadata": {},
   "outputs": [],
   "source": [
    "pip install category_encoders"
   ]
  },
  {
   "cell_type": "code",
   "execution_count": null,
   "id": "615f04c3",
   "metadata": {},
   "outputs": [],
   "source": [
    "import matplotlib.pyplot as plt\n",
    "import seaborn as sns"
   ]
  },
  {
   "cell_type": "code",
   "execution_count": null,
   "id": "4f2e17ff",
   "metadata": {},
   "outputs": [],
   "source": [
    "!pip install scikit-optimize"
   ]
  },
  {
   "cell_type": "markdown",
   "id": "ae5f4778",
   "metadata": {},
   "source": [
    "# Data Preprocessing"
   ]
  },
  {
   "cell_type": "code",
   "execution_count": null,
   "id": "460b4ade",
   "metadata": {},
   "outputs": [],
   "source": [
    "import pandas as pd\n",
    "\n",
    "df = pd.read_csv(\"Your folder path\")"
   ]
  },
  {
   "cell_type": "code",
   "execution_count": null,
   "id": "5fc23541",
   "metadata": {},
   "outputs": [],
   "source": [
    "df.isnull().sum()"
   ]
  },
  {
   "cell_type": "code",
   "execution_count": null,
   "id": "d199f93d",
   "metadata": {},
   "outputs": [],
   "source": [
    "df['transmission'].fillna('automatic', inplace=True)"
   ]
  },
  {
   "cell_type": "code",
   "execution_count": null,
   "id": "0237fc36",
   "metadata": {},
   "outputs": [],
   "source": [
    "df = df.dropna(subset=['vin', 'state','sellingprice','saledate','make', 'model', 'trim','body','condition','odometer','color','interior','mmr'])"
   ]
  },
  {
   "cell_type": "code",
   "execution_count": null,
   "id": "d529002a",
   "metadata": {},
   "outputs": [],
   "source": [
    "# Select categorical columns \n",
    "categorical_columns = ['make','model','trim','body','transmission','vin','state','color','interior','seller','saledate']"
   ]
  },
  {
   "cell_type": "code",
   "execution_count": null,
   "id": "7789452c",
   "metadata": {},
   "outputs": [],
   "source": [
    "from category_encoders import TargetEncoder\n",
    "# Create a copy of the dataframe\n",
    "df_encoded = df.copy()\n",
    "\n",
    "# Apply Target Encoding\n",
    "encoder = TargetEncoder(cols=categorical_columns)\n",
    "df_encoded[categorical_columns] = encoder.fit_transform(df[categorical_columns], df['mmr'])\n"
   ]
  },
  {
   "cell_type": "code",
   "execution_count": null,
   "id": "aabef36a",
   "metadata": {},
   "outputs": [],
   "source": [
    "# Compute the correlation matrix\n",
    "correlation_matrix = df_encoded.corr(method='pearson')"
   ]
  },
  {
   "cell_type": "code",
   "execution_count": null,
   "id": "5132a731",
   "metadata": {},
   "outputs": [],
   "source": [
    "import seaborn as sns\n",
    "import matplotlib.pyplot as plt\n",
    "\n",
    "# Plot the heatmap\n",
    "plt.figure(figsize=(12, 8))\n",
    "sns.heatmap(correlation_matrix, annot=True, cmap='coolwarm', fmt=\".2f\")\n",
    "plt.title(\"Correlation Heatmap with Categorical Variables\")\n",
    "plt.show()\n"
   ]
  },
  {
   "cell_type": "code",
   "execution_count": null,
   "id": "815411ef",
   "metadata": {},
   "outputs": [],
   "source": [
    "#list and drop columns that are less related to the target based on my judgement\n",
    "cols_to_drop = ['transmission','color','vin','interior','state','sellingprice','saledate']\n",
    "\n",
    "#at the same time rename the columns so they are understandable.\n",
    "df = df.drop(columns = cols_to_drop).rename(columns = {'year':'manufacture_year','make':'brand','model':'specific_model',\n",
    "                                                      'trim':'additional_designation','vin':'Vehicle_Identification_Number','mmr':'estimated_value'})\n",
    "\n"
   ]
  },
  {
   "cell_type": "code",
   "execution_count": null,
   "id": "88f57661",
   "metadata": {},
   "outputs": [],
   "source": [
    "df.head()"
   ]
  },
  {
   "cell_type": "code",
   "execution_count": null,
   "id": "f8229d07",
   "metadata": {},
   "outputs": [],
   "source": [
    "num_duplicates = df.duplicated().sum()\n",
    "print(f'Number of duplicate rows: {num_duplicates}')"
   ]
  },
  {
   "cell_type": "code",
   "execution_count": null,
   "id": "e34ee36c",
   "metadata": {},
   "outputs": [],
   "source": [
    "df.drop_duplicates(inplace=True)"
   ]
  },
  {
   "cell_type": "code",
   "execution_count": null,
   "id": "a0417084",
   "metadata": {},
   "outputs": [],
   "source": [
    "Q1 = df['estimated_value'].quantile(0.25)\n",
    "Q3 = df['estimated_value'].quantile(0.75)\n",
    "IQR = Q3 - Q1\n",
    "lower_bound = Q1 - 1.5 * IQR\n",
    "upper_bound = Q3 + 1.5 * IQR\n",
    "\n",
    "outliers = df[(df['estimated_value'] < lower_bound) | (df['estimated_value'] > upper_bound)]"
   ]
  },
  {
   "cell_type": "code",
   "execution_count": null,
   "id": "038a9890",
   "metadata": {},
   "outputs": [],
   "source": [
    "df[['estimated_value']].boxplot()\n",
    "plt.title('Boxplot of estimated value')\n",
    "plt.show()"
   ]
  },
  {
   "cell_type": "code",
   "execution_count": null,
   "id": "fb77c79e",
   "metadata": {},
   "outputs": [],
   "source": [
    "df = df[(df['estimated_value'] >= lower_bound) & (df['estimated_value'] <= upper_bound)]\n",
    "\n",
    "df[['estimated_value']].boxplot()\n",
    "plt.title('Boxplot of MMR After Outlier Handling')\n",
    "plt.show()"
   ]
  },
  {
   "cell_type": "code",
   "execution_count": null,
   "id": "5328036d",
   "metadata": {},
   "outputs": [],
   "source": [
    "#Split to training and testing\n",
    "\n",
    "from sklearn.model_selection import train_test_split\n",
    "\n",
    "x = df.drop(columns = 'estimated_value')\n",
    "y = df['estimated_value']\n",
    "\n",
    "X_train, X_test, Y_train, Y_test = train_test_split(x, y, test_size=0.2,random_state=8)"
   ]
  },
  {
   "cell_type": "code",
   "execution_count": null,
   "id": "2b1a4404",
   "metadata": {},
   "outputs": [],
   "source": []
  }
 ],
 "metadata": {
  "kernelspec": {
   "display_name": "Python 3 (ipykernel)",
   "language": "python",
   "name": "python3"
  },
  "language_info": {
   "codemirror_mode": {
    "name": "ipython",
    "version": 3
   },
   "file_extension": ".py",
   "mimetype": "text/x-python",
   "name": "python",
   "nbconvert_exporter": "python",
   "pygments_lexer": "ipython3",
   "version": "3.10.9"
  }
 },
 "nbformat": 4,
 "nbformat_minor": 5
}
