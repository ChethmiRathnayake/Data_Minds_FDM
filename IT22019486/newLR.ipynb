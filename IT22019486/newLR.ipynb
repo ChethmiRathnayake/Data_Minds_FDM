{
  "nbformat": 4,
  "nbformat_minor": 0,
  "metadata": {
    "colab": {
      "provenance": []
    },
    "kernelspec": {
      "name": "python3",
      "display_name": "Python 3"
    },
    "language_info": {
      "name": "python"
    }
  },
  "cells": [
    {
      "cell_type": "code",
      "execution_count": null,
      "metadata": {
        "colab": {
          "base_uri": "https://localhost:8080/"
        },
        "id": "9inSS2rFDaVL",
        "outputId": "ca1ab0cf-b3dd-4d82-8e71-1c7e7cdb0bad"
      },
      "outputs": [
        {
          "output_type": "stream",
          "name": "stdout",
          "text": [
            "Collecting category_encoders\n",
            "  Downloading category_encoders-2.6.4-py2.py3-none-any.whl.metadata (8.0 kB)\n",
            "Requirement already satisfied: numpy>=1.14.0 in /usr/local/lib/python3.10/dist-packages (from category_encoders) (1.26.4)\n",
            "Requirement already satisfied: scikit-learn>=0.20.0 in /usr/local/lib/python3.10/dist-packages (from category_encoders) (1.5.2)\n",
            "Requirement already satisfied: scipy>=1.0.0 in /usr/local/lib/python3.10/dist-packages (from category_encoders) (1.13.1)\n",
            "Requirement already satisfied: statsmodels>=0.9.0 in /usr/local/lib/python3.10/dist-packages (from category_encoders) (0.14.3)\n",
            "Requirement already satisfied: pandas>=1.0.5 in /usr/local/lib/python3.10/dist-packages (from category_encoders) (2.2.2)\n",
            "Requirement already satisfied: patsy>=0.5.1 in /usr/local/lib/python3.10/dist-packages (from category_encoders) (0.5.6)\n",
            "Requirement already satisfied: python-dateutil>=2.8.2 in /usr/local/lib/python3.10/dist-packages (from pandas>=1.0.5->category_encoders) (2.8.2)\n",
            "Requirement already satisfied: pytz>=2020.1 in /usr/local/lib/python3.10/dist-packages (from pandas>=1.0.5->category_encoders) (2024.2)\n",
            "Requirement already satisfied: tzdata>=2022.7 in /usr/local/lib/python3.10/dist-packages (from pandas>=1.0.5->category_encoders) (2024.2)\n",
            "Requirement already satisfied: six in /usr/local/lib/python3.10/dist-packages (from patsy>=0.5.1->category_encoders) (1.16.0)\n",
            "Requirement already satisfied: joblib>=1.2.0 in /usr/local/lib/python3.10/dist-packages (from scikit-learn>=0.20.0->category_encoders) (1.4.2)\n",
            "Requirement already satisfied: threadpoolctl>=3.1.0 in /usr/local/lib/python3.10/dist-packages (from scikit-learn>=0.20.0->category_encoders) (3.5.0)\n",
            "Requirement already satisfied: packaging>=21.3 in /usr/local/lib/python3.10/dist-packages (from statsmodels>=0.9.0->category_encoders) (24.1)\n",
            "Downloading category_encoders-2.6.4-py2.py3-none-any.whl (82 kB)\n",
            "\u001b[2K   \u001b[90m━━━━━━━━━━━━━━━━━━━━━━━━━━━━━━━━━━━━━━━━\u001b[0m \u001b[32m82.0/82.0 kB\u001b[0m \u001b[31m2.4 MB/s\u001b[0m eta \u001b[36m0:00:00\u001b[0m\n",
            "\u001b[?25hInstalling collected packages: category_encoders\n",
            "Successfully installed category_encoders-2.6.4\n"
          ]
        }
      ],
      "source": [
        "pip install category_encoders"
      ]
    },
    {
      "cell_type": "code",
      "source": [
        "pip install scikit-optimize"
      ],
      "metadata": {
        "colab": {
          "base_uri": "https://localhost:8080/"
        },
        "id": "nf-Z_62BDhw-",
        "outputId": "a8be1ab0-780a-4204-ff3d-205d6a0aed79"
      },
      "execution_count": null,
      "outputs": [
        {
          "output_type": "stream",
          "name": "stdout",
          "text": [
            "Collecting scikit-optimize\n",
            "  Downloading scikit_optimize-0.10.2-py2.py3-none-any.whl.metadata (9.7 kB)\n",
            "Requirement already satisfied: joblib>=0.11 in /usr/local/lib/python3.10/dist-packages (from scikit-optimize) (1.4.2)\n",
            "Collecting pyaml>=16.9 (from scikit-optimize)\n",
            "  Downloading pyaml-24.9.0-py3-none-any.whl.metadata (11 kB)\n",
            "Requirement already satisfied: numpy>=1.20.3 in /usr/local/lib/python3.10/dist-packages (from scikit-optimize) (1.26.4)\n",
            "Requirement already satisfied: scipy>=1.1.0 in /usr/local/lib/python3.10/dist-packages (from scikit-optimize) (1.13.1)\n",
            "Requirement already satisfied: scikit-learn>=1.0.0 in /usr/local/lib/python3.10/dist-packages (from scikit-optimize) (1.5.2)\n",
            "Requirement already satisfied: packaging>=21.3 in /usr/local/lib/python3.10/dist-packages (from scikit-optimize) (24.1)\n",
            "Requirement already satisfied: PyYAML in /usr/local/lib/python3.10/dist-packages (from pyaml>=16.9->scikit-optimize) (6.0.2)\n",
            "Requirement already satisfied: threadpoolctl>=3.1.0 in /usr/local/lib/python3.10/dist-packages (from scikit-learn>=1.0.0->scikit-optimize) (3.5.0)\n",
            "Downloading scikit_optimize-0.10.2-py2.py3-none-any.whl (107 kB)\n",
            "\u001b[2K   \u001b[90m━━━━━━━━━━━━━━━━━━━━━━━━━━━━━━━━━━━━━━━━\u001b[0m \u001b[32m107.8/107.8 kB\u001b[0m \u001b[31m4.0 MB/s\u001b[0m eta \u001b[36m0:00:00\u001b[0m\n",
            "\u001b[?25hDownloading pyaml-24.9.0-py3-none-any.whl (24 kB)\n",
            "Installing collected packages: pyaml, scikit-optimize\n",
            "Successfully installed pyaml-24.9.0 scikit-optimize-0.10.2\n"
          ]
        }
      ]
    },
    {
      "cell_type": "code",
      "source": [
        "import pandas as pd\n",
        "from sklearn.model_selection import train_test_split, cross_val_score\n",
        "from sklearn.pipeline import Pipeline\n",
        "from category_encoders.target_encoder import TargetEncoder\n",
        "from xgboost import XGBRegressor\n",
        "from skopt import BayesSearchCV\n",
        "from sklearn.metrics import accuracy_score,mean_absolute_error, mean_squared_error, r2_score\n",
        "import matplotlib.pyplot as plt\n",
        "import seaborn as sns\n",
        "from sklearn.model_selection import KFold\n",
        "import numpy as np"
      ],
      "metadata": {
        "id": "RwZQjfHsDl9o"
      },
      "execution_count": null,
      "outputs": []
    },
    {
      "cell_type": "code",
      "source": [
        "# Load the dataset\n",
        "file_path = \"./carprices.csv\"\n",
        "df = pd.read_csv(file_path)"
      ],
      "metadata": {
        "id": "9SAmJ5scDoTF"
      },
      "execution_count": null,
      "outputs": []
    },
    {
      "cell_type": "code",
      "source": [
        "#list and drop columns that are less related to the target based on my judgement\n",
        "cols_to_drop = ['transmission','sellingprice','saledate','vin']\n",
        "# Drop multiple columns by name\n",
        "df = df.drop(cols_to_drop, axis=1)"
      ],
      "metadata": {
        "id": "rovCGugzDqOw"
      },
      "execution_count": null,
      "outputs": []
    },
    {
      "cell_type": "code",
      "source": [
        "df.isnull().sum()"
      ],
      "metadata": {
        "colab": {
          "base_uri": "https://localhost:8080/",
          "height": 460
        },
        "id": "urt_5n95DuKp",
        "outputId": "1193e9b5-89e3-47d1-8e74-62a53c69bf46"
      },
      "execution_count": null,
      "outputs": [
        {
          "output_type": "execute_result",
          "data": {
            "text/plain": [
              "year             0\n",
              "make         10301\n",
              "model        10399\n",
              "trim         10651\n",
              "body         13195\n",
              "state            0\n",
              "condition    11820\n",
              "odometer        94\n",
              "color          749\n",
              "interior       749\n",
              "seller           0\n",
              "mmr             38\n",
              "dtype: int64"
            ],
            "text/html": [
              "<div>\n",
              "<style scoped>\n",
              "    .dataframe tbody tr th:only-of-type {\n",
              "        vertical-align: middle;\n",
              "    }\n",
              "\n",
              "    .dataframe tbody tr th {\n",
              "        vertical-align: top;\n",
              "    }\n",
              "\n",
              "    .dataframe thead th {\n",
              "        text-align: right;\n",
              "    }\n",
              "</style>\n",
              "<table border=\"1\" class=\"dataframe\">\n",
              "  <thead>\n",
              "    <tr style=\"text-align: right;\">\n",
              "      <th></th>\n",
              "      <th>0</th>\n",
              "    </tr>\n",
              "  </thead>\n",
              "  <tbody>\n",
              "    <tr>\n",
              "      <th>year</th>\n",
              "      <td>0</td>\n",
              "    </tr>\n",
              "    <tr>\n",
              "      <th>make</th>\n",
              "      <td>10301</td>\n",
              "    </tr>\n",
              "    <tr>\n",
              "      <th>model</th>\n",
              "      <td>10399</td>\n",
              "    </tr>\n",
              "    <tr>\n",
              "      <th>trim</th>\n",
              "      <td>10651</td>\n",
              "    </tr>\n",
              "    <tr>\n",
              "      <th>body</th>\n",
              "      <td>13195</td>\n",
              "    </tr>\n",
              "    <tr>\n",
              "      <th>state</th>\n",
              "      <td>0</td>\n",
              "    </tr>\n",
              "    <tr>\n",
              "      <th>condition</th>\n",
              "      <td>11820</td>\n",
              "    </tr>\n",
              "    <tr>\n",
              "      <th>odometer</th>\n",
              "      <td>94</td>\n",
              "    </tr>\n",
              "    <tr>\n",
              "      <th>color</th>\n",
              "      <td>749</td>\n",
              "    </tr>\n",
              "    <tr>\n",
              "      <th>interior</th>\n",
              "      <td>749</td>\n",
              "    </tr>\n",
              "    <tr>\n",
              "      <th>seller</th>\n",
              "      <td>0</td>\n",
              "    </tr>\n",
              "    <tr>\n",
              "      <th>mmr</th>\n",
              "      <td>38</td>\n",
              "    </tr>\n",
              "  </tbody>\n",
              "</table>\n",
              "</div><br><label><b>dtype:</b> int64</label>"
            ]
          },
          "metadata": {},
          "execution_count": 6
        }
      ]
    },
    {
      "cell_type": "code",
      "source": [
        "df = df.dropna(subset=['state','make', 'model', 'trim','body','condition','odometer','color','interior','mmr'])"
      ],
      "metadata": {
        "id": "jmZWZpFwDv7K"
      },
      "execution_count": null,
      "outputs": []
    },
    {
      "cell_type": "code",
      "source": [
        "num_duplicates = df.duplicated().sum()\n",
        "print(f'Number of duplicate rows: {num_duplicates}')"
      ],
      "metadata": {
        "colab": {
          "base_uri": "https://localhost:8080/"
        },
        "id": "y1ypicj1D0fw",
        "outputId": "1b686441-4f91-4d57-a593-01de6b900bb7"
      },
      "execution_count": null,
      "outputs": [
        {
          "output_type": "stream",
          "name": "stdout",
          "text": [
            "Number of duplicate rows: 1\n"
          ]
        }
      ]
    },
    {
      "cell_type": "code",
      "source": [
        "df.drop_duplicates(inplace=True)"
      ],
      "metadata": {
        "id": "UAUysKBBD2yQ"
      },
      "execution_count": null,
      "outputs": []
    },
    {
      "cell_type": "code",
      "source": [
        "Q1 = df['mmr'].quantile(0.25)\n",
        "Q3 = df['mmr'].quantile(0.75)\n",
        "IQR = Q3 - Q1\n",
        "lower_bound = Q1 - 1.5 * IQR\n",
        "upper_bound = Q3 + 1.5 * IQR\n",
        "\n",
        "outliers = df[(df['mmr'] < lower_bound) | (df['mmr'] > upper_bound)]"
      ],
      "metadata": {
        "id": "19aIs8egD4pL"
      },
      "execution_count": null,
      "outputs": []
    },
    {
      "cell_type": "code",
      "source": [
        "df[['mmr']].boxplot()\n",
        "plt.title('Boxplot of estimated value')\n",
        "plt.show()"
      ],
      "metadata": {
        "colab": {
          "base_uri": "https://localhost:8080/",
          "height": 452
        },
        "id": "8PrZLaciD6dY",
        "outputId": "755bbadb-09db-4eb2-dde0-94154340619b"
      },
      "execution_count": null,
      "outputs": [
        {
          "output_type": "display_data",
          "data": {
            "text/plain": [
              "<Figure size 640x480 with 1 Axes>"
            ],
            "image/png": "[encoded data removed]"
          },
          "metadata": {}
        }
      ]
    },
    {
      "cell_type": "code",
      "source": [
        "df = df[(df['mmr'] >= lower_bound) & (df['mmr'] <= upper_bound)]"
      ],
      "metadata": {
        "id": "Qg5jMEFoD8az"
      },
      "execution_count": null,
      "outputs": []
    },
    {
      "cell_type": "code",
      "source": [
        "df[['mmr']].boxplot()\n",
        "plt.title('Boxplot of estimated value After Outlier Handling')\n",
        "plt.show()"
      ],
      "metadata": {
        "colab": {
          "base_uri": "https://localhost:8080/",
          "height": 452
        },
        "id": "XSkrEIwMD-iN",
        "outputId": "0d36f0ed-3181-4576-df51-a686a5b66a86"
      },
      "execution_count": null,
      "outputs": [
        {
          "output_type": "display_data",
          "data": {
            "text/plain": [
              "<Figure size 640x480 with 1 Axes>"
            ],
            "image/png": "[encoded data removed]"
          },
          "metadata": {}
        }
      ]
    },
    {
      "cell_type": "code",
      "source": [
        "df.shape"
      ],
      "metadata": {
        "colab": {
          "base_uri": "https://localhost:8080/"
        },
        "id": "XLByDS1WEAR2",
        "outputId": "4a9aa67e-c773-4e4f-f0e1-86efc7ec9463"
      },
      "execution_count": null,
      "outputs": [
        {
          "output_type": "execute_result",
          "data": {
            "text/plain": [
              "(517499, 12)"
            ]
          },
          "metadata": {},
          "execution_count": 14
        }
      ]
    },
    {
      "cell_type": "code",
      "source": [
        "# Define the categorical columns to be one-hot encoded\n",
        "categorical_columns = ['make', 'model', 'trim', 'body', 'state', 'color', 'interior', 'seller']"
      ],
      "metadata": {
        "id": "Mz20YIeZEB_1"
      },
      "execution_count": null,
      "outputs": []
    },
    {
      "cell_type": "code",
      "source": [
        "frequency_counts = df['make'].value_counts()\n",
        "print(frequency_counts)"
      ],
      "metadata": {
        "colab": {
          "base_uri": "https://localhost:8080/"
        },
        "id": "ibIqY5NYEGJc",
        "outputId": "ddc380b9-c669-4fa9-9cb9-c054bb9f375d"
      },
      "execution_count": null,
      "outputs": [
        {
          "output_type": "stream",
          "name": "stdout",
          "text": [
            "make\n",
            "Ford             90018\n",
            "Chevrolet        57126\n",
            "Nissan           53007\n",
            "Toyota           38714\n",
            "Dodge            29955\n",
            "Honda            26367\n",
            "Hyundai          21372\n",
            "Kia              17807\n",
            "BMW              16969\n",
            "Chrysler         16910\n",
            "Infiniti         14609\n",
            "Jeep             14608\n",
            "Mercedes-Benz    14539\n",
            "Volkswagen       12156\n",
            "Lexus            10924\n",
            "GMC               9809\n",
            "Mazda             8171\n",
            "Cadillac          6771\n",
            "Acura             5645\n",
            "Lincoln           5445\n",
            "Subaru            4931\n",
            "Buick             4908\n",
            "Audi              4880\n",
            "Pontiac           4244\n",
            "Mitsubishi        4029\n",
            "Ram               3886\n",
            "Volvo             3628\n",
            "MINI              3167\n",
            "Saturn            2656\n",
            "Mercury           1889\n",
            "Scion             1647\n",
            "Jaguar            1085\n",
            "Suzuki            1026\n",
            "Land Rover         937\n",
            "FIAT               857\n",
            "HUMMER             779\n",
            "Porsche            573\n",
            "Saab               453\n",
            "smart              389\n",
            "Oldsmobile         333\n",
            "Isuzu              188\n",
            "Maserati            55\n",
            "Geo                 19\n",
            "Plymouth            16\n",
            "Daewoo               2\n",
            "Name: count, dtype: int64\n"
          ]
        }
      ]
    },
    {
      "cell_type": "code",
      "source": [
        "# Determine the top N makes dynamically\n",
        "top_n = 10  # Set how many top makes you want to keep\n",
        "top_makes = frequency_counts.nlargest(top_n).index.tolist()\n",
        "\n",
        "# Function to categorize makes\n",
        "def categorize_make(make):\n",
        "    return make if make in top_makes else 'Other'\n",
        "\n",
        "# Apply categorization\n",
        "df['make'] = df['make'].apply(categorize_make)"
      ],
      "metadata": {
        "id": "s2ogjjx6EITO"
      },
      "execution_count": null,
      "outputs": []
    },
    {
      "cell_type": "code",
      "source": [
        "# One-hot encoding\n",
        "df = pd.get_dummies(df, columns=['make'], prefix='', prefix_sep='')\n",
        "\n",
        "# Display the resulting DataFrame\n",
        "print(df)"
      ],
      "metadata": {
        "colab": {
          "base_uri": "https://localhost:8080/"
        },
        "id": "k1Z7D_DmEKGO",
        "outputId": "83443f33-70d3-4b50-d219-b0eaab67a7a6"
      },
      "execution_count": null,
      "outputs": [
        {
          "output_type": "stream",
          "name": "stdout",
          "text": [
            "        year     model         trim       body state  condition  odometer  \\\n",
            "0       2015   Sorento           LX        SUV    ca        5.0   16639.0   \n",
            "1       2015   Sorento           LX        SUV    ca        5.0    9393.0   \n",
            "2       2014  3 Series   328i SULEV      Sedan    ca       45.0    1331.0   \n",
            "3       2015       S60           T5      Sedan    ca       41.0   14282.0   \n",
            "5       2015    Altima        2.5 S      Sedan    ca        1.0    5554.0   \n",
            "...      ...       ...          ...        ...   ...        ...       ...   \n",
            "558831  2011  5 Series         528i      Sedan    fl       39.0   66403.0   \n",
            "558833  2012      2500  Power Wagon   Crew Cab    wa        5.0   54393.0   \n",
            "558834  2012        X5    xDrive35d        SUV    ca       48.0   50561.0   \n",
            "558835  2015    Altima        2.5 S      sedan    ga       38.0   16658.0   \n",
            "558836  2014     F-150          XLT  SuperCrew    ca       34.0   15008.0   \n",
            "\n",
            "        color interior                                             seller  \\\n",
            "0       white    black                            kia motors america  inc   \n",
            "1       white    beige                            kia motors america  inc   \n",
            "2        gray    black             financial services remarketing (lease)   \n",
            "3       white    black                            volvo na rep/world omni   \n",
            "5        gray    black  enterprise vehicle exchange / tra / rental / t...   \n",
            "...       ...      ...                                                ...   \n",
            "558831  white    brown           lauderdale imports ltd bmw pembrok pines   \n",
            "558833  white    black                                    i -5 uhlmann rv   \n",
            "558834  black    black             financial services remarketing (lease)   \n",
            "558835  white    black  enterprise vehicle exchange / tra / rental / t...   \n",
            "558836   gray     gray                   ford motor credit company llc pd   \n",
            "\n",
            "        ...  Chevrolet  Chrysler  Dodge   Ford  Honda  Hyundai    Kia  Nissan  \\\n",
            "0       ...      False     False  False  False  False    False   True   False   \n",
            "1       ...      False     False  False  False  False    False   True   False   \n",
            "2       ...      False     False  False  False  False    False  False   False   \n",
            "3       ...      False     False  False  False  False    False  False   False   \n",
            "5       ...      False     False  False  False  False    False  False    True   \n",
            "...     ...        ...       ...    ...    ...    ...      ...    ...     ...   \n",
            "558831  ...      False     False  False  False  False    False  False   False   \n",
            "558833  ...      False     False  False  False  False    False  False   False   \n",
            "558834  ...      False     False  False  False  False    False  False   False   \n",
            "558835  ...      False     False  False  False  False    False  False    True   \n",
            "558836  ...      False     False  False   True  False    False  False   False   \n",
            "\n",
            "        Other  Toyota  \n",
            "0       False   False  \n",
            "1       False   False  \n",
            "2       False   False  \n",
            "3        True   False  \n",
            "5       False   False  \n",
            "...       ...     ...  \n",
            "558831  False   False  \n",
            "558833   True   False  \n",
            "558834  False   False  \n",
            "558835  False   False  \n",
            "558836  False   False  \n",
            "\n",
            "[517499 rows x 22 columns]\n"
          ]
        }
      ]
    },
    {
      "cell_type": "code",
      "source": [
        "frequency_counts_model = df['model'].value_counts()\n",
        "print(frequency_counts_model)"
      ],
      "metadata": {
        "colab": {
          "base_uri": "https://localhost:8080/"
        },
        "id": "fjLNUQY4EMQ7",
        "outputId": "a5a278a2-84f0-4509-a6ef-37152dd96e65"
      },
      "execution_count": null,
      "outputs": [
        {
          "output_type": "stream",
          "name": "stdout",
          "text": [
            "model\n",
            "Altima       19159\n",
            "F-150        13489\n",
            "Fusion       12831\n",
            "Camry        12326\n",
            "Escape       11713\n",
            "             ...  \n",
            "Amigo            1\n",
            "Ram Van          1\n",
            "Corsica          1\n",
            "GranSport        1\n",
            "TLX              1\n",
            "Name: count, Length: 722, dtype: int64\n"
          ]
        }
      ]
    },
    {
      "cell_type": "code",
      "source": [
        "# Determine the top N makes dynamically\n",
        "top_n = 10  # Set how many top makes you want to keep\n",
        "top_model = frequency_counts_model.nlargest(top_n).index.tolist()\n",
        "\n",
        "# Function to categorize makes\n",
        "def categorize_model(model):\n",
        "    return model if model in top_model else 'Other'\n",
        "\n",
        "# Apply categorization\n",
        "df['model'] = df['model'].apply(categorize_model)"
      ],
      "metadata": {
        "id": "zkBorZyAEOAJ"
      },
      "execution_count": null,
      "outputs": []
    },
    {
      "cell_type": "code",
      "source": [
        "# One-hot encoding\n",
        "df = pd.get_dummies(df, columns=['model'], prefix='', prefix_sep='')\n",
        "\n",
        "# Display the resulting DataFrame\n",
        "print(df)"
      ],
      "metadata": {
        "colab": {
          "base_uri": "https://localhost:8080/"
        },
        "id": "yuoFnn-vEPyD",
        "outputId": "8d595a17-98d5-49b8-e605-2d363ab92149"
      },
      "execution_count": null,
      "outputs": [
        {
          "output_type": "stream",
          "name": "stdout",
          "text": [
            "        year         trim       body state  condition  odometer  color  \\\n",
            "0       2015           LX        SUV    ca        5.0   16639.0  white   \n",
            "1       2015           LX        SUV    ca        5.0    9393.0  white   \n",
            "2       2014   328i SULEV      Sedan    ca       45.0    1331.0   gray   \n",
            "3       2015           T5      Sedan    ca       41.0   14282.0  white   \n",
            "5       2015        2.5 S      Sedan    ca        1.0    5554.0   gray   \n",
            "...      ...          ...        ...   ...        ...       ...    ...   \n",
            "558831  2011         528i      Sedan    fl       39.0   66403.0  white   \n",
            "558833  2012  Power Wagon   Crew Cab    wa        5.0   54393.0  white   \n",
            "558834  2012    xDrive35d        SUV    ca       48.0   50561.0  black   \n",
            "558835  2015        2.5 S      sedan    ga       38.0   16658.0  white   \n",
            "558836  2014          XLT  SuperCrew    ca       34.0   15008.0   gray   \n",
            "\n",
            "       interior                                             seller      mmr  \\\n",
            "0         black                            kia motors america  inc  20500.0   \n",
            "1         beige                            kia motors america  inc  20800.0   \n",
            "2         black             financial services remarketing (lease)  31900.0   \n",
            "3         black                            volvo na rep/world omni  27500.0   \n",
            "5         black  enterprise vehicle exchange / tra / rental / t...  15350.0   \n",
            "...         ...                                                ...      ...   \n",
            "558831    brown           lauderdale imports ltd bmw pembrok pines  20300.0   \n",
            "558833    black                                    i -5 uhlmann rv  30200.0   \n",
            "558834    black             financial services remarketing (lease)  29800.0   \n",
            "558835    black  enterprise vehicle exchange / tra / rental / t...  15100.0   \n",
            "558836     gray                   ford motor credit company llc pd  29600.0   \n",
            "\n",
            "        ...  Accord  Altima  Camry  Escape  F-150  Focus  Fusion  \\\n",
            "0       ...   False   False  False   False  False  False   False   \n",
            "1       ...   False   False  False   False  False  False   False   \n",
            "2       ...   False   False  False   False  False  False   False   \n",
            "3       ...   False   False  False   False  False  False   False   \n",
            "5       ...   False    True  False   False  False  False   False   \n",
            "...     ...     ...     ...    ...     ...    ...    ...     ...   \n",
            "558831  ...   False   False  False   False  False  False   False   \n",
            "558833  ...   False   False  False   False  False  False   False   \n",
            "558834  ...   False   False  False   False  False  False   False   \n",
            "558835  ...   False    True  False   False  False  False   False   \n",
            "558836  ...   False   False  False   False   True  False   False   \n",
            "\n",
            "        Grand Caravan  Impala  Other  \n",
            "0               False   False   True  \n",
            "1               False   False   True  \n",
            "2               False   False  False  \n",
            "3               False   False   True  \n",
            "5               False   False  False  \n",
            "...               ...     ...    ...  \n",
            "558831          False   False   True  \n",
            "558833          False   False   True  \n",
            "558834          False   False   True  \n",
            "558835          False   False  False  \n",
            "558836          False   False  False  \n",
            "\n",
            "[517499 rows x 32 columns]\n"
          ]
        }
      ]
    },
    {
      "cell_type": "code",
      "source": [
        "frequency_counts_trim = df['trim'].value_counts()\n",
        "print(frequency_counts_trim)"
      ],
      "metadata": {
        "colab": {
          "base_uri": "https://localhost:8080/"
        },
        "id": "LB35lk3JESCE",
        "outputId": "37984d99-07c4-46be-ed86-6802ddf56ab4"
      },
      "execution_count": null,
      "outputs": [
        {
          "output_type": "stream",
          "name": "stdout",
          "text": [
            "trim\n",
            "Base                             51850\n",
            "SE                               43016\n",
            "LX                               20366\n",
            "Limited                          17545\n",
            "XLT                              16233\n",
            "                                 ...  \n",
            "Luxury 5 Passenger                   1\n",
            "LW2                                  1\n",
            "Z06 Competition Sport Spec Ed        1\n",
            "SE-V6 Desert Runner                  1\n",
            "Power Wagon                          1\n",
            "Name: count, Length: 1421, dtype: int64\n"
          ]
        }
      ]
    },
    {
      "cell_type": "code",
      "source": [
        "# Determine the top N makes dynamically\n",
        "top_n = 10  # Set how many top makes you want to keep\n",
        "top_trim = frequency_counts_trim.nlargest(top_n).index.tolist()\n",
        "\n",
        "# Function to categorize makes\n",
        "def categorize_trim(trim):\n",
        "    return trim if trim in top_trim else 'Other'\n",
        "\n",
        "# Apply categorization\n",
        "df['trim'] = df['trim'].apply(categorize_trim)"
      ],
      "metadata": {
        "id": "AK9GKjUMEVv3"
      },
      "execution_count": null,
      "outputs": []
    },
    {
      "cell_type": "code",
      "source": [
        "# One-hot encoding\n",
        "df = pd.get_dummies(df, columns=['trim'], prefix='', prefix_sep='')\n",
        "\n",
        "# Display the resulting DataFrame\n",
        "print(df)"
      ],
      "metadata": {
        "colab": {
          "base_uri": "https://localhost:8080/"
        },
        "id": "Dxx_E52_EZDp",
        "outputId": "5738ad2e-1b12-4ee9-9c99-7cb2cb4fa2a1"
      },
      "execution_count": null,
      "outputs": [
        {
          "output_type": "stream",
          "name": "stdout",
          "text": [
            "        year       body state  condition  odometer  color interior  \\\n",
            "0       2015        SUV    ca        5.0   16639.0  white    black   \n",
            "1       2015        SUV    ca        5.0    9393.0  white    beige   \n",
            "2       2014      Sedan    ca       45.0    1331.0   gray    black   \n",
            "3       2015      Sedan    ca       41.0   14282.0  white    black   \n",
            "5       2015      Sedan    ca        1.0    5554.0   gray    black   \n",
            "...      ...        ...   ...        ...       ...    ...      ...   \n",
            "558831  2011      Sedan    fl       39.0   66403.0  white    brown   \n",
            "558833  2012   Crew Cab    wa        5.0   54393.0  white    black   \n",
            "558834  2012        SUV    ca       48.0   50561.0  black    black   \n",
            "558835  2015      sedan    ga       38.0   16658.0  white    black   \n",
            "558836  2014  SuperCrew    ca       34.0   15008.0   gray     gray   \n",
            "\n",
            "                                                   seller      mmr    BMW  \\\n",
            "0                                 kia motors america  inc  20500.0  False   \n",
            "1                                 kia motors america  inc  20800.0  False   \n",
            "2                  financial services remarketing (lease)  31900.0   True   \n",
            "3                                 volvo na rep/world omni  27500.0  False   \n",
            "5       enterprise vehicle exchange / tra / rental / t...  15350.0  False   \n",
            "...                                                   ...      ...    ...   \n",
            "558831           lauderdale imports ltd bmw pembrok pines  20300.0   True   \n",
            "558833                                    i -5 uhlmann rv  30200.0  False   \n",
            "558834             financial services remarketing (lease)  29800.0   True   \n",
            "558835  enterprise vehicle exchange / tra / rental / t...  15100.0  False   \n",
            "558836                   ford motor credit company llc pd  29600.0  False   \n",
            "\n",
            "        ...    GLS     LE     LS     LT     LX  Limited  Other      S     SE  \\\n",
            "0       ...  False  False  False  False   True    False  False  False  False   \n",
            "1       ...  False  False  False  False   True    False  False  False  False   \n",
            "2       ...  False  False  False  False  False    False   True  False  False   \n",
            "3       ...  False  False  False  False  False    False   True  False  False   \n",
            "5       ...  False  False  False  False  False    False   True  False  False   \n",
            "...     ...    ...    ...    ...    ...    ...      ...    ...    ...    ...   \n",
            "558831  ...  False  False  False  False  False    False   True  False  False   \n",
            "558833  ...  False  False  False  False  False    False   True  False  False   \n",
            "558834  ...  False  False  False  False  False    False   True  False  False   \n",
            "558835  ...  False  False  False  False  False    False   True  False  False   \n",
            "558836  ...  False  False  False  False  False    False  False  False  False   \n",
            "\n",
            "          XLT  \n",
            "0       False  \n",
            "1       False  \n",
            "2       False  \n",
            "3       False  \n",
            "5       False  \n",
            "...       ...  \n",
            "558831  False  \n",
            "558833  False  \n",
            "558834  False  \n",
            "558835  False  \n",
            "558836   True  \n",
            "\n",
            "[517499 rows x 42 columns]\n"
          ]
        }
      ]
    },
    {
      "cell_type": "code",
      "source": [
        "frequency_counts_body = df['body'].value_counts()\n",
        "print(frequency_counts_body)"
      ],
      "metadata": {
        "colab": {
          "base_uri": "https://localhost:8080/"
        },
        "id": "cx2qzsMZEbVQ",
        "outputId": "631bc884-71b9-46a9-e2be-a1788106c690"
      },
      "execution_count": null,
      "outputs": [
        {
          "output_type": "stream",
          "name": "stdout",
          "text": [
            "body\n",
            "Sedan              191635\n",
            "SUV                110715\n",
            "sedan               40943\n",
            "suv                 23044\n",
            "Hatchback           20790\n",
            "                    ...  \n",
            "q60 convertible         1\n",
            "Ram Van                 1\n",
            "g37 coupe               1\n",
            "cts-v coupe             1\n",
            "cts wagon               1\n",
            "Name: count, Length: 83, dtype: int64\n"
          ]
        }
      ]
    },
    {
      "cell_type": "code",
      "source": [
        "# Determine the top N makes dynamically\n",
        "top_n =6  # Set how many top makes you want to keep\n",
        "top_body = frequency_counts_body.nlargest(top_n).index.tolist()\n",
        "\n",
        "# Function to categorize makes\n",
        "def categorize_body(body):\n",
        "    return body if body in top_body else 'Other'\n",
        "\n",
        "# Apply categorization\n",
        "df['body'] = df['body'].apply(categorize_body)"
      ],
      "metadata": {
        "id": "5FWg_6-4EdBf"
      },
      "execution_count": null,
      "outputs": []
    },
    {
      "cell_type": "code",
      "source": [
        "# One-hot encoding\n",
        "df = pd.get_dummies(df, columns=['body'], prefix='', prefix_sep='')\n",
        "\n",
        "# Display the resulting DataFrame\n",
        "print(df)"
      ],
      "metadata": {
        "colab": {
          "base_uri": "https://localhost:8080/"
        },
        "id": "ourRw_YeEe0U",
        "outputId": "7763227c-7fcd-4b3a-cc63-893e0fd6717d"
      },
      "execution_count": null,
      "outputs": [
        {
          "output_type": "stream",
          "name": "stdout",
          "text": [
            "        year state  condition  odometer  color interior  \\\n",
            "0       2015    ca        5.0   16639.0  white    black   \n",
            "1       2015    ca        5.0    9393.0  white    beige   \n",
            "2       2014    ca       45.0    1331.0   gray    black   \n",
            "3       2015    ca       41.0   14282.0  white    black   \n",
            "5       2015    ca        1.0    5554.0   gray    black   \n",
            "...      ...   ...        ...       ...    ...      ...   \n",
            "558831  2011    fl       39.0   66403.0  white    brown   \n",
            "558833  2012    wa        5.0   54393.0  white    black   \n",
            "558834  2012    ca       48.0   50561.0  black    black   \n",
            "558835  2015    ga       38.0   16658.0  white    black   \n",
            "558836  2014    ca       34.0   15008.0   gray     gray   \n",
            "\n",
            "                                                   seller      mmr    BMW  \\\n",
            "0                                 kia motors america  inc  20500.0  False   \n",
            "1                                 kia motors america  inc  20800.0  False   \n",
            "2                  financial services remarketing (lease)  31900.0   True   \n",
            "3                                 volvo na rep/world omni  27500.0  False   \n",
            "5       enterprise vehicle exchange / tra / rental / t...  15350.0  False   \n",
            "...                                                   ...      ...    ...   \n",
            "558831           lauderdale imports ltd bmw pembrok pines  20300.0   True   \n",
            "558833                                    i -5 uhlmann rv  30200.0  False   \n",
            "558834             financial services remarketing (lease)  29800.0   True   \n",
            "558835  enterprise vehicle exchange / tra / rental / t...  15100.0  False   \n",
            "558836                   ford motor credit company llc pd  29600.0  False   \n",
            "\n",
            "        Chevrolet  ...      S     SE    XLT  Hatchback  Minivan  Other    SUV  \\\n",
            "0           False  ...  False  False  False      False    False  False   True   \n",
            "1           False  ...  False  False  False      False    False  False   True   \n",
            "2           False  ...  False  False  False      False    False  False  False   \n",
            "3           False  ...  False  False  False      False    False  False  False   \n",
            "5           False  ...  False  False  False      False    False  False  False   \n",
            "...           ...  ...    ...    ...    ...        ...      ...    ...    ...   \n",
            "558831      False  ...  False  False  False      False    False  False  False   \n",
            "558833      False  ...  False  False  False      False    False   True  False   \n",
            "558834      False  ...  False  False  False      False    False  False   True   \n",
            "558835      False  ...  False  False  False      False    False  False  False   \n",
            "558836      False  ...  False  False   True      False    False   True  False   \n",
            "\n",
            "        Sedan  sedan    suv  \n",
            "0       False  False  False  \n",
            "1       False  False  False  \n",
            "2        True  False  False  \n",
            "3        True  False  False  \n",
            "5        True  False  False  \n",
            "...       ...    ...    ...  \n",
            "558831   True  False  False  \n",
            "558833  False  False  False  \n",
            "558834  False  False  False  \n",
            "558835  False   True  False  \n",
            "558836  False  False  False  \n",
            "\n",
            "[517499 rows x 48 columns]\n"
          ]
        }
      ]
    },
    {
      "cell_type": "code",
      "source": [
        "frequency_counts_state = df['state'].value_counts()\n",
        "print(frequency_counts_state)\n",
        "\n",
        "# Determine the top N makes dynamically\n",
        "top_n =15 # Set how many top makes you want to keep\n",
        "top_state = frequency_counts_state.nlargest(top_n).index.tolist()\n",
        "\n",
        "# Function to categorize makes\n",
        "def categorize_state(state):\n",
        "    return state if state in top_state else 'Other'\n",
        "\n",
        "# Apply categorization\n",
        "df['state'] = df['state'].apply(categorize_state)\n",
        "\n",
        "frequency_counts_state = df['state'].value_counts()\n",
        "print(frequency_counts_state)"
      ],
      "metadata": {
        "colab": {
          "base_uri": "https://localhost:8080/"
        },
        "id": "ZRnTyOemEgst",
        "outputId": "9223907f-1081-4536-aa58-7480a64d8c55"
      },
      "execution_count": null,
      "outputs": [
        {
          "output_type": "stream",
          "name": "stdout",
          "text": [
            "state\n",
            "fl    77246\n",
            "ca    66380\n",
            "pa    50335\n",
            "tx    42406\n",
            "ga    32513\n",
            "nj    26027\n",
            "il    21494\n",
            "nc    20794\n",
            "oh    19965\n",
            "tn    19741\n",
            "mo    15183\n",
            "mi    14716\n",
            "nv    11424\n",
            "va    11171\n",
            "md    10544\n",
            "wi     9072\n",
            "mn     8683\n",
            "az     7806\n",
            "co     7292\n",
            "wa     6961\n",
            "ma     6389\n",
            "ny     4770\n",
            "in     4157\n",
            "sc     3935\n",
            "ne     3630\n",
            "pr     2632\n",
            "on     2546\n",
            "la     1801\n",
            "ms     1789\n",
            "ut     1680\n",
            "hi     1199\n",
            "or     1109\n",
            "qc     1062\n",
            "ab      757\n",
            "nm      162\n",
            "ok       57\n",
            "ns       46\n",
            "al       25\n",
            "Name: count, dtype: int64\n",
            "state\n",
            "Other    77560\n",
            "fl       77246\n",
            "ca       66380\n",
            "pa       50335\n",
            "tx       42406\n",
            "ga       32513\n",
            "nj       26027\n",
            "il       21494\n",
            "nc       20794\n",
            "oh       19965\n",
            "tn       19741\n",
            "mo       15183\n",
            "mi       14716\n",
            "nv       11424\n",
            "va       11171\n",
            "md       10544\n",
            "Name: count, dtype: int64\n"
          ]
        }
      ]
    },
    {
      "cell_type": "code",
      "source": [
        "# One-hot encoding\n",
        "df = pd.get_dummies(df, columns=['state'], prefix='', prefix_sep='')\n",
        "\n",
        "# Display the resulting DataFrame\n",
        "print(df)\n"
      ],
      "metadata": {
        "colab": {
          "base_uri": "https://localhost:8080/"
        },
        "id": "nDT4jL1cEkHm",
        "outputId": "1b317f8b-8cac-4df0-f6c1-e1880cc5ae20"
      },
      "execution_count": null,
      "outputs": [
        {
          "output_type": "stream",
          "name": "stdout",
          "text": [
            "        year  condition  odometer  color interior  \\\n",
            "0       2015        5.0   16639.0  white    black   \n",
            "1       2015        5.0    9393.0  white    beige   \n",
            "2       2014       45.0    1331.0   gray    black   \n",
            "3       2015       41.0   14282.0  white    black   \n",
            "5       2015        1.0    5554.0   gray    black   \n",
            "...      ...        ...       ...    ...      ...   \n",
            "558831  2011       39.0   66403.0  white    brown   \n",
            "558833  2012        5.0   54393.0  white    black   \n",
            "558834  2012       48.0   50561.0  black    black   \n",
            "558835  2015       38.0   16658.0  white    black   \n",
            "558836  2014       34.0   15008.0   gray     gray   \n",
            "\n",
            "                                                   seller      mmr    BMW  \\\n",
            "0                                 kia motors america  inc  20500.0  False   \n",
            "1                                 kia motors america  inc  20800.0  False   \n",
            "2                  financial services remarketing (lease)  31900.0   True   \n",
            "3                                 volvo na rep/world omni  27500.0  False   \n",
            "5       enterprise vehicle exchange / tra / rental / t...  15350.0  False   \n",
            "...                                                   ...      ...    ...   \n",
            "558831           lauderdale imports ltd bmw pembrok pines  20300.0   True   \n",
            "558833                                    i -5 uhlmann rv  30200.0  False   \n",
            "558834             financial services remarketing (lease)  29800.0   True   \n",
            "558835  enterprise vehicle exchange / tra / rental / t...  15100.0  False   \n",
            "558836                   ford motor credit company llc pd  29600.0  False   \n",
            "\n",
            "        Chevrolet  Chrysler  ...     mi     mo     nc     nj     nv     oh  \\\n",
            "0           False     False  ...  False  False  False  False  False  False   \n",
            "1           False     False  ...  False  False  False  False  False  False   \n",
            "2           False     False  ...  False  False  False  False  False  False   \n",
            "3           False     False  ...  False  False  False  False  False  False   \n",
            "5           False     False  ...  False  False  False  False  False  False   \n",
            "...           ...       ...  ...    ...    ...    ...    ...    ...    ...   \n",
            "558831      False     False  ...  False  False  False  False  False  False   \n",
            "558833      False     False  ...  False  False  False  False  False  False   \n",
            "558834      False     False  ...  False  False  False  False  False  False   \n",
            "558835      False     False  ...  False  False  False  False  False  False   \n",
            "558836      False     False  ...  False  False  False  False  False  False   \n",
            "\n",
            "           pa     tn     tx     va  \n",
            "0       False  False  False  False  \n",
            "1       False  False  False  False  \n",
            "2       False  False  False  False  \n",
            "3       False  False  False  False  \n",
            "5       False  False  False  False  \n",
            "...       ...    ...    ...    ...  \n",
            "558831  False  False  False  False  \n",
            "558833  False  False  False  False  \n",
            "558834  False  False  False  False  \n",
            "558835  False  False  False  False  \n",
            "558836  False  False  False  False  \n",
            "\n",
            "[517499 rows x 63 columns]\n"
          ]
        }
      ]
    },
    {
      "cell_type": "code",
      "source": [
        "frequency_counts_color = df['color'].value_counts()\n",
        "print(frequency_counts_color)"
      ],
      "metadata": {
        "colab": {
          "base_uri": "https://localhost:8080/"
        },
        "id": "XAf1KUVsEmaz",
        "outputId": "9c4f7aab-21e1-4d17-c756-3ab31a5b46fa"
      },
      "execution_count": null,
      "outputs": [
        {
          "output_type": "stream",
          "name": "stdout",
          "text": [
            "color\n",
            "black        101321\n",
            "white         98045\n",
            "silver        78147\n",
            "gray          77924\n",
            "blue          47788\n",
            "red           40788\n",
            "—             23228\n",
            "gold          10370\n",
            "green         10279\n",
            "beige          8475\n",
            "burgundy       8380\n",
            "brown          6193\n",
            "orange         1910\n",
            "purple         1443\n",
            "off-white      1347\n",
            "yellow         1147\n",
            "charcoal        445\n",
            "turquoise       214\n",
            "pink             41\n",
            "lime             14\n",
            "Name: count, dtype: int64\n"
          ]
        }
      ]
    },
    {
      "cell_type": "code",
      "source": [
        "# Optionally, group similar colors (e.g., combine Black and White into 'Neutral')\n",
        "def group_similar_colors(color):\n",
        "    if color in ['off-white', 'white']:\n",
        "        return 'white'\n",
        "    elif color in ['gray', 'silver','charcoal']:\n",
        "        return 'gray'\n",
        "    elif color in ['red', 'burgundy']:\n",
        "        return 'red'\n",
        "    elif color in ['green', 'turquoise','lime']:\n",
        "        return 'green'\n",
        "    elif color in ['brown', 'beige']:\n",
        "        return 'brown'\n",
        "    else:\n",
        "        return color\n",
        "\n",
        "# Apply grouping for similar colors\n",
        "df['color'] = df['color'].apply(group_similar_colors)"
      ],
      "metadata": {
        "id": "k1gKSSmBEojd"
      },
      "execution_count": null,
      "outputs": []
    },
    {
      "cell_type": "code",
      "source": [
        "# Determine the top N makes dynamically\n",
        "top_n =6 # Set how many top makes you want to keep\n",
        "top_color = frequency_counts_color.nlargest(top_n).index.tolist()\n",
        "\n",
        "# Function to categorize makes\n",
        "def categorize_color(color):\n",
        "    return color if color in top_color else 'Other'\n",
        "\n",
        "# Apply categorization\n",
        "df['color'] = df['color'].apply(categorize_color)\n",
        "\n",
        "frequency_counts_color = df['color'].value_counts()\n",
        "print(frequency_counts_color)"
      ],
      "metadata": {
        "colab": {
          "base_uri": "https://localhost:8080/"
        },
        "id": "ZLE6ff3-ErOa",
        "outputId": "816371fc-e24d-428a-94a4-43f35ac586b1"
      },
      "execution_count": null,
      "outputs": [
        {
          "output_type": "stream",
          "name": "stdout",
          "text": [
            "color\n",
            "gray     156516\n",
            "black    101321\n",
            "white     99392\n",
            "Other     63314\n",
            "red       49168\n",
            "blue      47788\n",
            "Name: count, dtype: int64\n"
          ]
        }
      ]
    },
    {
      "cell_type": "code",
      "source": [
        "# One-hot encoding\n",
        "df = pd.get_dummies(df, columns=['color'], prefix='', prefix_sep='')\n",
        "\n",
        "# Display the resulting DataFrame\n",
        "print(df)"
      ],
      "metadata": {
        "colab": {
          "base_uri": "https://localhost:8080/"
        },
        "id": "50q_FS2uEtbc",
        "outputId": "0c9ab940-aaed-4034-8b6f-fb056a156eed"
      },
      "execution_count": null,
      "outputs": [
        {
          "output_type": "stream",
          "name": "stdout",
          "text": [
            "        year  condition  odometer interior  \\\n",
            "0       2015        5.0   16639.0    black   \n",
            "1       2015        5.0    9393.0    beige   \n",
            "2       2014       45.0    1331.0    black   \n",
            "3       2015       41.0   14282.0    black   \n",
            "5       2015        1.0    5554.0    black   \n",
            "...      ...        ...       ...      ...   \n",
            "558831  2011       39.0   66403.0    brown   \n",
            "558833  2012        5.0   54393.0    black   \n",
            "558834  2012       48.0   50561.0    black   \n",
            "558835  2015       38.0   16658.0    black   \n",
            "558836  2014       34.0   15008.0     gray   \n",
            "\n",
            "                                                   seller      mmr    BMW  \\\n",
            "0                                 kia motors america  inc  20500.0  False   \n",
            "1                                 kia motors america  inc  20800.0  False   \n",
            "2                  financial services remarketing (lease)  31900.0   True   \n",
            "3                                 volvo na rep/world omni  27500.0  False   \n",
            "5       enterprise vehicle exchange / tra / rental / t...  15350.0  False   \n",
            "...                                                   ...      ...    ...   \n",
            "558831           lauderdale imports ltd bmw pembrok pines  20300.0   True   \n",
            "558833                                    i -5 uhlmann rv  30200.0  False   \n",
            "558834             financial services remarketing (lease)  29800.0   True   \n",
            "558835  enterprise vehicle exchange / tra / rental / t...  15100.0  False   \n",
            "558836                   ford motor credit company llc pd  29600.0  False   \n",
            "\n",
            "        Chevrolet  Chrysler  Dodge  ...     pa     tn     tx     va  Other  \\\n",
            "0           False     False  False  ...  False  False  False  False  False   \n",
            "1           False     False  False  ...  False  False  False  False  False   \n",
            "2           False     False  False  ...  False  False  False  False  False   \n",
            "3           False     False  False  ...  False  False  False  False  False   \n",
            "5           False     False  False  ...  False  False  False  False  False   \n",
            "...           ...       ...    ...  ...    ...    ...    ...    ...    ...   \n",
            "558831      False     False  False  ...  False  False  False  False  False   \n",
            "558833      False     False  False  ...  False  False  False  False  False   \n",
            "558834      False     False  False  ...  False  False  False  False  False   \n",
            "558835      False     False  False  ...  False  False  False  False  False   \n",
            "558836      False     False  False  ...  False  False  False  False  False   \n",
            "\n",
            "        black   blue   gray    red  white  \n",
            "0       False  False  False  False   True  \n",
            "1       False  False  False  False   True  \n",
            "2       False  False   True  False  False  \n",
            "3       False  False  False  False   True  \n",
            "5       False  False   True  False  False  \n",
            "...       ...    ...    ...    ...    ...  \n",
            "558831  False  False  False  False   True  \n",
            "558833  False  False  False  False   True  \n",
            "558834   True  False  False  False  False  \n",
            "558835  False  False  False  False   True  \n",
            "558836  False  False   True  False  False  \n",
            "\n",
            "[517499 rows x 68 columns]\n"
          ]
        }
      ]
    },
    {
      "cell_type": "code",
      "source": [
        "frequency_counts_interior = df['interior'].value_counts()\n",
        "print(frequency_counts_interior)"
      ],
      "metadata": {
        "colab": {
          "base_uri": "https://localhost:8080/"
        },
        "id": "7cR3jrHyEvjr",
        "outputId": "8dea89ce-434b-4bc6-db78-2a6535ff7482"
      },
      "execution_count": null,
      "outputs": [
        {
          "output_type": "stream",
          "name": "stdout",
          "text": [
            "interior\n",
            "black        229202\n",
            "gray         168754\n",
            "beige         56232\n",
            "tan           40533\n",
            "—             10841\n",
            "brown          7139\n",
            "silver         1036\n",
            "red            1029\n",
            "blue            971\n",
            "off-white       418\n",
            "gold            308\n",
            "purple          307\n",
            "green           223\n",
            "white           214\n",
            "burgundy        156\n",
            "orange          120\n",
            "yellow           16\n",
            "Name: count, dtype: int64\n"
          ]
        }
      ]
    },
    {
      "cell_type": "code",
      "source": [
        "# Optionally, group similar colors (e.g., combine Black and White into 'Neutral')\n",
        "def group_similar_interior(interior):\n",
        "    if interior in ['off-white', 'white']:\n",
        "        return 'white'\n",
        "    elif interior in ['gray', 'silver','charcoal']:\n",
        "        return 'gray'\n",
        "    elif interior in ['red', 'burgundy']:\n",
        "        return 'red'\n",
        "    elif interior in ['green', 'turquoise','lime']:\n",
        "        return 'green'\n",
        "    elif interior in ['brown', 'beige','tan']:\n",
        "        return 'brown'\n",
        "    else:\n",
        "        return interior\n",
        "\n",
        "# Apply grouping for similar colors\n",
        "df['interior'] = df['interior'].apply(group_similar_colors)"
      ],
      "metadata": {
        "id": "qCBazRnpEzQb"
      },
      "execution_count": null,
      "outputs": []
    },
    {
      "cell_type": "code",
      "source": [
        "# Determine the top N makes dynamically\n",
        "top_n =6 # Set how many top makes you want to keep\n",
        "top_interior = frequency_counts_interior.nlargest(top_n).index.tolist()\n",
        "\n",
        "# Function to categorize makes\n",
        "def categorize_interior(interior):\n",
        "    return interior if interior in top_interior else 'Other'\n",
        "\n",
        "# Apply categorization\n",
        "df['interior'] = df['interior'].apply(categorize_interior)\n",
        "\n",
        "frequency_counts_interior = df['interior'].value_counts()\n",
        "print(frequency_counts_interior)"
      ],
      "metadata": {
        "colab": {
          "base_uri": "https://localhost:8080/"
        },
        "id": "xS1zKgckE1HH",
        "outputId": "a71dbfbf-5159-4b55-f25c-cb9fcd3834d6"
      },
      "execution_count": null,
      "outputs": [
        {
          "output_type": "stream",
          "name": "stdout",
          "text": [
            "interior\n",
            "black    229202\n",
            "gray     169790\n",
            "brown     63371\n",
            "tan       40533\n",
            "—         10841\n",
            "Other      3762\n",
            "Name: count, dtype: int64\n"
          ]
        }
      ]
    },
    {
      "cell_type": "code",
      "source": [
        "# One-hot encoding\n",
        "df = pd.get_dummies(df, columns=['interior'], prefix='', prefix_sep='')\n",
        "\n",
        "# Display the resulting DataFrame\n",
        "print(df)"
      ],
      "metadata": {
        "colab": {
          "base_uri": "https://localhost:8080/"
        },
        "id": "ZHqPKDklE3U9",
        "outputId": "ec4c6376-5124-4763-f316-1f2f4eb2671b"
      },
      "execution_count": null,
      "outputs": [
        {
          "output_type": "stream",
          "name": "stdout",
          "text": [
            "        year  condition  odometer  \\\n",
            "0       2015        5.0   16639.0   \n",
            "1       2015        5.0    9393.0   \n",
            "2       2014       45.0    1331.0   \n",
            "3       2015       41.0   14282.0   \n",
            "5       2015        1.0    5554.0   \n",
            "...      ...        ...       ...   \n",
            "558831  2011       39.0   66403.0   \n",
            "558833  2012        5.0   54393.0   \n",
            "558834  2012       48.0   50561.0   \n",
            "558835  2015       38.0   16658.0   \n",
            "558836  2014       34.0   15008.0   \n",
            "\n",
            "                                                   seller      mmr    BMW  \\\n",
            "0                                 kia motors america  inc  20500.0  False   \n",
            "1                                 kia motors america  inc  20800.0  False   \n",
            "2                  financial services remarketing (lease)  31900.0   True   \n",
            "3                                 volvo na rep/world omni  27500.0  False   \n",
            "5       enterprise vehicle exchange / tra / rental / t...  15350.0  False   \n",
            "...                                                   ...      ...    ...   \n",
            "558831           lauderdale imports ltd bmw pembrok pines  20300.0   True   \n",
            "558833                                    i -5 uhlmann rv  30200.0  False   \n",
            "558834             financial services remarketing (lease)  29800.0   True   \n",
            "558835  enterprise vehicle exchange / tra / rental / t...  15100.0  False   \n",
            "558836                   ford motor credit company llc pd  29600.0  False   \n",
            "\n",
            "        Chevrolet  Chrysler  Dodge   Ford  ...   blue   gray    red  white  \\\n",
            "0           False     False  False  False  ...  False  False  False   True   \n",
            "1           False     False  False  False  ...  False  False  False   True   \n",
            "2           False     False  False  False  ...  False   True  False  False   \n",
            "3           False     False  False  False  ...  False  False  False   True   \n",
            "5           False     False  False  False  ...  False   True  False  False   \n",
            "...           ...       ...    ...    ...  ...    ...    ...    ...    ...   \n",
            "558831      False     False  False  False  ...  False  False  False   True   \n",
            "558833      False     False  False  False  ...  False  False  False   True   \n",
            "558834      False     False  False  False  ...  False  False  False  False   \n",
            "558835      False     False  False  False  ...  False  False  False   True   \n",
            "558836      False     False  False   True  ...  False   True  False  False   \n",
            "\n",
            "        Other  black  brown   gray    tan      —  \n",
            "0       False   True  False  False  False  False  \n",
            "1       False  False   True  False  False  False  \n",
            "2       False   True  False  False  False  False  \n",
            "3       False   True  False  False  False  False  \n",
            "5       False   True  False  False  False  False  \n",
            "...       ...    ...    ...    ...    ...    ...  \n",
            "558831  False  False   True  False  False  False  \n",
            "558833  False   True  False  False  False  False  \n",
            "558834  False   True  False  False  False  False  \n",
            "558835  False   True  False  False  False  False  \n",
            "558836  False  False  False   True  False  False  \n",
            "\n",
            "[517499 rows x 73 columns]\n"
          ]
        }
      ]
    },
    {
      "cell_type": "code",
      "source": [
        "frequency_counts_seller = df['seller'].value_counts()\n",
        "print(frequency_counts_seller)\n",
        "\n",
        "# Determine the top N makes dynamically\n",
        "top_n =15 # Set how many top makes you want to keep\n",
        "top_seller = frequency_counts_seller.nlargest(top_n).index.tolist()\n",
        "\n",
        "# Function to categorize makes\n",
        "def categorize_seller(seller):\n",
        "    return seller if seller in top_seller else 'Other'\n",
        "\n",
        "# Apply categorization\n",
        "df['seller'] = df['seller'].apply(categorize_seller)\n",
        "\n",
        "frequency_counts_seller = df['seller'].value_counts()\n",
        "print(frequency_counts_seller)"
      ],
      "metadata": {
        "colab": {
          "base_uri": "https://localhost:8080/"
        },
        "id": "3C1kfWeCE5Xj",
        "outputId": "35da0b96-0779-475a-fbe5-17401e1aac71"
      },
      "execution_count": null,
      "outputs": [
        {
          "output_type": "stream",
          "name": "stdout",
          "text": [
            "seller\n",
            "nissan-infiniti lt                                  19673\n",
            "ford motor credit company llc                       18853\n",
            "the hertz corporation                               17933\n",
            "santander consumer                                  14957\n",
            "avis corporation                                    12053\n",
            "                                                    ...  \n",
            "world alliance                                          1\n",
            "green cap financial/dba lendmark financial/new b        1\n",
            "southern utah auto sales                                1\n",
            "shehata 98 auto sales inc                               1\n",
            "i -5 uhlmann rv                                         1\n",
            "Name: count, Length: 12491, dtype: int64\n",
            "seller\n",
            "Other                                    366600\n",
            "nissan-infiniti lt                        19673\n",
            "ford motor credit company llc             18853\n",
            "the hertz corporation                     17933\n",
            "santander consumer                        14957\n",
            "avis corporation                          12053\n",
            "nissan infiniti lt                         9863\n",
            "wells fargo dealer services                8513\n",
            "tdaf remarketing                           6741\n",
            "hyundai motor finance                      6649\n",
            "ge fleet services for itself/servicer      6542\n",
            "enterprise veh exchange/rental             6475\n",
            "ahfc/honda lease trust/hvt  inc. eot       6068\n",
            "jpmorgan chase bank n.a.                   5892\n",
            "chrysler capital                           5492\n",
            "gm financial                               5195\n",
            "Name: count, dtype: int64\n"
          ]
        }
      ]
    },
    {
      "cell_type": "code",
      "source": [
        "# One-hot encoding\n",
        "df = pd.get_dummies(df, columns=['seller'], prefix='', prefix_sep='')\n",
        "\n",
        "# Display the resulting DataFrame\n",
        "print(df)"
      ],
      "metadata": {
        "colab": {
          "base_uri": "https://localhost:8080/"
        },
        "id": "0zbA1xXsE7c_",
        "outputId": "11d724b8-977b-4e80-9d4c-910159373a9f"
      },
      "execution_count": null,
      "outputs": [
        {
          "output_type": "stream",
          "name": "stdout",
          "text": [
            "        year  condition  odometer      mmr    BMW  Chevrolet  Chrysler  Dodge  \\\n",
            "0       2015        5.0   16639.0  20500.0  False      False     False  False   \n",
            "1       2015        5.0    9393.0  20800.0  False      False     False  False   \n",
            "2       2014       45.0    1331.0  31900.0   True      False     False  False   \n",
            "3       2015       41.0   14282.0  27500.0  False      False     False  False   \n",
            "5       2015        1.0    5554.0  15350.0  False      False     False  False   \n",
            "...      ...        ...       ...      ...    ...        ...       ...    ...   \n",
            "558831  2011       39.0   66403.0  20300.0   True      False     False  False   \n",
            "558833  2012        5.0   54393.0  30200.0  False      False     False  False   \n",
            "558834  2012       48.0   50561.0  29800.0   True      False     False  False   \n",
            "558835  2015       38.0   16658.0  15100.0  False      False     False  False   \n",
            "558836  2014       34.0   15008.0  29600.0  False      False     False  False   \n",
            "\n",
            "         Ford  Honda  ...  ge fleet services for itself/servicer  \\\n",
            "0       False  False  ...                                  False   \n",
            "1       False  False  ...                                  False   \n",
            "2       False  False  ...                                  False   \n",
            "3       False  False  ...                                  False   \n",
            "5       False  False  ...                                  False   \n",
            "...       ...    ...  ...                                    ...   \n",
            "558831  False  False  ...                                  False   \n",
            "558833  False  False  ...                                  False   \n",
            "558834  False  False  ...                                  False   \n",
            "558835  False  False  ...                                  False   \n",
            "558836   True  False  ...                                  False   \n",
            "\n",
            "        gm financial  hyundai motor finance  jpmorgan chase bank n.a.  \\\n",
            "0              False                  False                     False   \n",
            "1              False                  False                     False   \n",
            "2              False                  False                     False   \n",
            "3              False                  False                     False   \n",
            "5              False                  False                     False   \n",
            "...              ...                    ...                       ...   \n",
            "558831         False                  False                     False   \n",
            "558833         False                  False                     False   \n",
            "558834         False                  False                     False   \n",
            "558835         False                  False                     False   \n",
            "558836         False                  False                     False   \n",
            "\n",
            "        nissan infiniti lt  nissan-infiniti lt  santander consumer  \\\n",
            "0                    False               False               False   \n",
            "1                    False               False               False   \n",
            "2                    False               False               False   \n",
            "3                    False               False               False   \n",
            "5                    False               False               False   \n",
            "...                    ...                 ...                 ...   \n",
            "558831               False               False               False   \n",
            "558833               False               False               False   \n",
            "558834               False               False               False   \n",
            "558835               False               False               False   \n",
            "558836               False               False               False   \n",
            "\n",
            "        tdaf remarketing  the hertz corporation  wells fargo dealer services  \n",
            "0                  False                  False                        False  \n",
            "1                  False                  False                        False  \n",
            "2                  False                  False                        False  \n",
            "3                  False                  False                        False  \n",
            "5                  False                  False                        False  \n",
            "...                  ...                    ...                          ...  \n",
            "558831             False                  False                        False  \n",
            "558833             False                  False                        False  \n",
            "558834             False                  False                        False  \n",
            "558835             False                  False                        False  \n",
            "558836             False                  False                        False  \n",
            "\n",
            "[517499 rows x 88 columns]\n"
          ]
        }
      ]
    },
    {
      "cell_type": "code",
      "source": [
        "df_new = df.replace(False, 0)\n",
        "print(df_new)"
      ],
      "metadata": {
        "colab": {
          "base_uri": "https://localhost:8080/"
        },
        "id": "QL4yd0BTKIiz",
        "outputId": "402d0733-43c8-4f7f-d3b2-2f45ec0f7174"
      },
      "execution_count": null,
      "outputs": [
        {
          "output_type": "stream",
          "name": "stdout",
          "text": [
            "        year  condition  odometer      mmr   BMW Chevrolet Chrysler Dodge  \\\n",
            "0       2015        5.0   16639.0  20500.0     0         0        0     0   \n",
            "1       2015        5.0    9393.0  20800.0     0         0        0     0   \n",
            "2       2014       45.0    1331.0  31900.0  True         0        0     0   \n",
            "3       2015       41.0   14282.0  27500.0     0         0        0     0   \n",
            "5       2015        1.0    5554.0  15350.0     0         0        0     0   \n",
            "...      ...        ...       ...      ...   ...       ...      ...   ...   \n",
            "558831  2011       39.0   66403.0  20300.0  True         0        0     0   \n",
            "558833  2012        5.0   54393.0  30200.0     0         0        0     0   \n",
            "558834  2012       48.0   50561.0  29800.0  True         0        0     0   \n",
            "558835  2015       38.0   16658.0  15100.0     0         0        0     0   \n",
            "558836  2014       34.0   15008.0  29600.0     0         0        0     0   \n",
            "\n",
            "        Ford Honda  ... ge fleet services for itself/servicer gm financial  \\\n",
            "0          0     0  ...                                     0            0   \n",
            "1          0     0  ...                                     0            0   \n",
            "2          0     0  ...                                     0            0   \n",
            "3          0     0  ...                                     0            0   \n",
            "5          0     0  ...                                     0            0   \n",
            "...      ...   ...  ...                                   ...          ...   \n",
            "558831     0     0  ...                                     0            0   \n",
            "558833     0     0  ...                                     0            0   \n",
            "558834     0     0  ...                                     0            0   \n",
            "558835     0     0  ...                                     0            0   \n",
            "558836  True     0  ...                                     0            0   \n",
            "\n",
            "       hyundai motor finance jpmorgan chase bank n.a. nissan infiniti lt  \\\n",
            "0                          0                        0                  0   \n",
            "1                          0                        0                  0   \n",
            "2                          0                        0                  0   \n",
            "3                          0                        0                  0   \n",
            "5                          0                        0                  0   \n",
            "...                      ...                      ...                ...   \n",
            "558831                     0                        0                  0   \n",
            "558833                     0                        0                  0   \n",
            "558834                     0                        0                  0   \n",
            "558835                     0                        0                  0   \n",
            "558836                     0                        0                  0   \n",
            "\n",
            "       nissan-infiniti lt santander consumer tdaf remarketing  \\\n",
            "0                       0                  0                0   \n",
            "1                       0                  0                0   \n",
            "2                       0                  0                0   \n",
            "3                       0                  0                0   \n",
            "5                       0                  0                0   \n",
            "...                   ...                ...              ...   \n",
            "558831                  0                  0                0   \n",
            "558833                  0                  0                0   \n",
            "558834                  0                  0                0   \n",
            "558835                  0                  0                0   \n",
            "558836                  0                  0                0   \n",
            "\n",
            "       the hertz corporation wells fargo dealer services  \n",
            "0                          0                           0  \n",
            "1                          0                           0  \n",
            "2                          0                           0  \n",
            "3                          0                           0  \n",
            "5                          0                           0  \n",
            "...                      ...                         ...  \n",
            "558831                     0                           0  \n",
            "558833                     0                           0  \n",
            "558834                     0                           0  \n",
            "558835                     0                           0  \n",
            "558836                     0                           0  \n",
            "\n",
            "[517499 rows x 88 columns]\n"
          ]
        }
      ]
    },
    {
      "cell_type": "code",
      "source": [
        "X = df_new.drop(columns = 'mmr')\n",
        "y = df_new['mmr']"
      ],
      "metadata": {
        "id": "7bwm6wQGE-tl"
      },
      "execution_count": null,
      "outputs": []
    },
    {
      "cell_type": "code",
      "source": [
        "print(X.values)"
      ],
      "metadata": {
        "colab": {
          "base_uri": "https://localhost:8080/"
        },
        "id": "G7D5HfkWJFHj",
        "outputId": "151859c0-6498-4d4f-99d2-dd0290398ad3"
      },
      "execution_count": null,
      "outputs": [
        {
          "output_type": "stream",
          "name": "stdout",
          "text": [
            "[[2015 5.0 16639.0 ... 0 0 0]\n",
            " [2015 5.0 9393.0 ... 0 0 0]\n",
            " [2014 45.0 1331.0 ... 0 0 0]\n",
            " ...\n",
            " [2012 48.0 50561.0 ... 0 0 0]\n",
            " [2015 38.0 16658.0 ... 0 0 0]\n",
            " [2014 34.0 15008.0 ... 0 0 0]]\n"
          ]
        }
      ]
    },
    {
      "cell_type": "code",
      "source": [
        "# Split into training and test sets (80% training, 20% testing)\n",
        "X_train, X_test, y_train, y_test = train_test_split(X, y, test_size=0.2, random_state=42)"
      ],
      "metadata": {
        "id": "2c5fI_HkJ05w"
      },
      "execution_count": null,
      "outputs": []
    },
    {
      "cell_type": "code",
      "source": [
        "# from sklearn.linear_model import LinearRegression\n",
        "\n",
        "# # Initialize the model\n",
        "# model = LinearRegression()\n",
        "\n",
        "# # Train the model on the training data\n",
        "# model.fit(X_train, y_train)\n"
      ],
      "metadata": {
        "colab": {
          "base_uri": "https://localhost:8080/",
          "height": 80
        },
        "id": "TNlb-kWGZC7o",
        "outputId": "64a7719b-9804-4d23-d67a-66dd1e8dd92e"
      },
      "execution_count": null,
      "outputs": [
        {
          "output_type": "execute_result",
          "data": {
            "text/plain": [
              "LinearRegression()"
            ],
            "text/html": [
              "<style>#sk-container-id-1 {\n",
              "  /* Definition of color scheme common for light and dark mode */\n",
              "  --sklearn-color-text: black;\n",
              "  --sklearn-color-line: gray;\n",
              "  /* Definition of color scheme for unfitted estimators */\n",
              "  --sklearn-color-unfitted-level-0: #fff5e6;\n",
              "  --sklearn-color-unfitted-level-1: #f6e4d2;\n",
              "  --sklearn-color-unfitted-level-2: #ffe0b3;\n",
              "  --sklearn-color-unfitted-level-3: chocolate;\n",
              "  /* Definition of color scheme for fitted estimators */\n",
              "  --sklearn-color-fitted-level-0: #f0f8ff;\n",
              "  --sklearn-color-fitted-level-1: #d4ebff;\n",
              "  --sklearn-color-fitted-level-2: #b3dbfd;\n",
              "  --sklearn-color-fitted-level-3: cornflowerblue;\n",
              "\n",
              "  /* Specific color for light theme */\n",
              "  --sklearn-color-text-on-default-background: var(--sg-text-color, var(--theme-code-foreground, var(--jp-content-font-color1, black)));\n",
              "  --sklearn-color-background: var(--sg-background-color, var(--theme-background, var(--jp-layout-color0, white)));\n",
              "  --sklearn-color-border-box: var(--sg-text-color, var(--theme-code-foreground, var(--jp-content-font-color1, black)));\n",
              "  --sklearn-color-icon: #696969;\n",
              "\n",
              "  @media (prefers-color-scheme: dark) {\n",
              "    /* Redefinition of color scheme for dark theme */\n",
              "    --sklearn-color-text-on-default-background: var(--sg-text-color, var(--theme-code-foreground, var(--jp-content-font-color1, white)));\n",
              "    --sklearn-color-background: var(--sg-background-color, var(--theme-background, var(--jp-layout-color0, #111)));\n",
              "    --sklearn-color-border-box: var(--sg-text-color, var(--theme-code-foreground, var(--jp-content-font-color1, white)));\n",
              "    --sklearn-color-icon: #878787;\n",
              "  }\n",
              "}\n",
              "\n",
              "#sk-container-id-1 {\n",
              "  color: var(--sklearn-color-text);\n",
              "}\n",
              "\n",
              "#sk-container-id-1 pre {\n",
              "  padding: 0;\n",
              "}\n",
              "\n",
              "#sk-container-id-1 input.sk-hidden--visually {\n",
              "  border: 0;\n",
              "  clip: rect(1px 1px 1px 1px);\n",
              "  clip: rect(1px, 1px, 1px, 1px);\n",
              "  height: 1px;\n",
              "  margin: -1px;\n",
              "  overflow: hidden;\n",
              "  padding: 0;\n",
              "  position: absolute;\n",
              "  width: 1px;\n",
              "}\n",
              "\n",
              "#sk-container-id-1 div.sk-dashed-wrapped {\n",
              "  border: 1px dashed var(--sklearn-color-line);\n",
              "  margin: 0 0.4em 0.5em 0.4em;\n",
              "  box-sizing: border-box;\n",
              "  padding-bottom: 0.4em;\n",
              "  background-color: var(--sklearn-color-background);\n",
              "}\n",
              "\n",
              "#sk-container-id-1 div.sk-container {\n",
              "  /* jupyter's `normalize.less` sets `[hidden] { display: none; }`\n",
              "     but bootstrap.min.css set `[hidden] { display: none !important; }`\n",
              "     so we also need the `!important` here to be able to override the\n",
              "     default hidden behavior on the sphinx rendered scikit-learn.org.\n",
              "     See: https://github.com/scikit-learn/scikit-learn/issues/21755 */\n",
              "  display: inline-block !important;\n",
              "  position: relative;\n",
              "}\n",
              "\n",
              "#sk-container-id-1 div.sk-text-repr-fallback {\n",
              "  display: none;\n",
              "}\n",
              "\n",
              "div.sk-parallel-item,\n",
              "div.sk-serial,\n",
              "div.sk-item {\n",
              "  /* draw centered vertical line to link estimators */\n",
              "  background-image: linear-gradient(var(--sklearn-color-text-on-default-background), var(--sklearn-color-text-on-default-background));\n",
              "  background-size: 2px 100%;\n",
              "  background-repeat: no-repeat;\n",
              "  background-position: center center;\n",
              "}\n",
              "\n",
              "/* Parallel-specific style estimator block */\n",
              "\n",
              "#sk-container-id-1 div.sk-parallel-item::after {\n",
              "  content: \"\";\n",
              "  width: 100%;\n",
              "  border-bottom: 2px solid var(--sklearn-color-text-on-default-background);\n",
              "  flex-grow: 1;\n",
              "}\n",
              "\n",
              "#sk-container-id-1 div.sk-parallel {\n",
              "  display: flex;\n",
              "  align-items: stretch;\n",
              "  justify-content: center;\n",
              "  background-color: var(--sklearn-color-background);\n",
              "  position: relative;\n",
              "}\n",
              "\n",
              "#sk-container-id-1 div.sk-parallel-item {\n",
              "  display: flex;\n",
              "  flex-direction: column;\n",
              "}\n",
              "\n",
              "#sk-container-id-1 div.sk-parallel-item:first-child::after {\n",
              "  align-self: flex-end;\n",
              "  width: 50%;\n",
              "}\n",
              "\n",
              "#sk-container-id-1 div.sk-parallel-item:last-child::after {\n",
              "  align-self: flex-start;\n",
              "  width: 50%;\n",
              "}\n",
              "\n",
              "#sk-container-id-1 div.sk-parallel-item:only-child::after {\n",
              "  width: 0;\n",
              "}\n",
              "\n",
              "/* Serial-specific style estimator block */\n",
              "\n",
              "#sk-container-id-1 div.sk-serial {\n",
              "  display: flex;\n",
              "  flex-direction: column;\n",
              "  align-items: center;\n",
              "  background-color: var(--sklearn-color-background);\n",
              "  padding-right: 1em;\n",
              "  padding-left: 1em;\n",
              "}\n",
              "\n",
              "\n",
              "/* Toggleable style: style used for estimator/Pipeline/ColumnTransformer box that is\n",
              "clickable and can be expanded/collapsed.\n",
              "- Pipeline and ColumnTransformer use this feature and define the default style\n",
              "- Estimators will overwrite some part of the style using the `sk-estimator` class\n",
              "*/\n",
              "\n",
              "/* Pipeline and ColumnTransformer style (default) */\n",
              "\n",
              "#sk-container-id-1 div.sk-toggleable {\n",
              "  /* Default theme specific background. It is overwritten whether we have a\n",
              "  specific estimator or a Pipeline/ColumnTransformer */\n",
              "  background-color: var(--sklearn-color-background);\n",
              "}\n",
              "\n",
              "/* Toggleable label */\n",
              "#sk-container-id-1 label.sk-toggleable__label {\n",
              "  cursor: pointer;\n",
              "  display: block;\n",
              "  width: 100%;\n",
              "  margin-bottom: 0;\n",
              "  padding: 0.5em;\n",
              "  box-sizing: border-box;\n",
              "  text-align: center;\n",
              "}\n",
              "\n",
              "#sk-container-id-1 label.sk-toggleable__label-arrow:before {\n",
              "  /* Arrow on the left of the label */\n",
              "  content: \"▸\";\n",
              "  float: left;\n",
              "  margin-right: 0.25em;\n",
              "  color: var(--sklearn-color-icon);\n",
              "}\n",
              "\n",
              "#sk-container-id-1 label.sk-toggleable__label-arrow:hover:before {\n",
              "  color: var(--sklearn-color-text);\n",
              "}\n",
              "\n",
              "/* Toggleable content - dropdown */\n",
              "\n",
              "#sk-container-id-1 div.sk-toggleable__content {\n",
              "  max-height: 0;\n",
              "  max-width: 0;\n",
              "  overflow: hidden;\n",
              "  text-align: left;\n",
              "  /* unfitted */\n",
              "  background-color: var(--sklearn-color-unfitted-level-0);\n",
              "}\n",
              "\n",
              "#sk-container-id-1 div.sk-toggleable__content.fitted {\n",
              "  /* fitted */\n",
              "  background-color: var(--sklearn-color-fitted-level-0);\n",
              "}\n",
              "\n",
              "#sk-container-id-1 div.sk-toggleable__content pre {\n",
              "  margin: 0.2em;\n",
              "  border-radius: 0.25em;\n",
              "  color: var(--sklearn-color-text);\n",
              "  /* unfitted */\n",
              "  background-color: var(--sklearn-color-unfitted-level-0);\n",
              "}\n",
              "\n",
              "#sk-container-id-1 div.sk-toggleable__content.fitted pre {\n",
              "  /* unfitted */\n",
              "  background-color: var(--sklearn-color-fitted-level-0);\n",
              "}\n",
              "\n",
              "#sk-container-id-1 input.sk-toggleable__control:checked~div.sk-toggleable__content {\n",
              "  /* Expand drop-down */\n",
              "  max-height: 200px;\n",
              "  max-width: 100%;\n",
              "  overflow: auto;\n",
              "}\n",
              "\n",
              "#sk-container-id-1 input.sk-toggleable__control:checked~label.sk-toggleable__label-arrow:before {\n",
              "  content: \"▾\";\n",
              "}\n",
              "\n",
              "/* Pipeline/ColumnTransformer-specific style */\n",
              "\n",
              "#sk-container-id-1 div.sk-label input.sk-toggleable__control:checked~label.sk-toggleable__label {\n",
              "  color: var(--sklearn-color-text);\n",
              "  background-color: var(--sklearn-color-unfitted-level-2);\n",
              "}\n",
              "\n",
              "#sk-container-id-1 div.sk-label.fitted input.sk-toggleable__control:checked~label.sk-toggleable__label {\n",
              "  background-color: var(--sklearn-color-fitted-level-2);\n",
              "}\n",
              "\n",
              "/* Estimator-specific style */\n",
              "\n",
              "/* Colorize estimator box */\n",
              "#sk-container-id-1 div.sk-estimator input.sk-toggleable__control:checked~label.sk-toggleable__label {\n",
              "  /* unfitted */\n",
              "  background-color: var(--sklearn-color-unfitted-level-2);\n",
              "}\n",
              "\n",
              "#sk-container-id-1 div.sk-estimator.fitted input.sk-toggleable__control:checked~label.sk-toggleable__label {\n",
              "  /* fitted */\n",
              "  background-color: var(--sklearn-color-fitted-level-2);\n",
              "}\n",
              "\n",
              "#sk-container-id-1 div.sk-label label.sk-toggleable__label,\n",
              "#sk-container-id-1 div.sk-label label {\n",
              "  /* The background is the default theme color */\n",
              "  color: var(--sklearn-color-text-on-default-background);\n",
              "}\n",
              "\n",
              "/* On hover, darken the color of the background */\n",
              "#sk-container-id-1 div.sk-label:hover label.sk-toggleable__label {\n",
              "  color: var(--sklearn-color-text);\n",
              "  background-color: var(--sklearn-color-unfitted-level-2);\n",
              "}\n",
              "\n",
              "/* Label box, darken color on hover, fitted */\n",
              "#sk-container-id-1 div.sk-label.fitted:hover label.sk-toggleable__label.fitted {\n",
              "  color: var(--sklearn-color-text);\n",
              "  background-color: var(--sklearn-color-fitted-level-2);\n",
              "}\n",
              "\n",
              "/* Estimator label */\n",
              "\n",
              "#sk-container-id-1 div.sk-label label {\n",
              "  font-family: monospace;\n",
              "  font-weight: bold;\n",
              "  display: inline-block;\n",
              "  line-height: 1.2em;\n",
              "}\n",
              "\n",
              "#sk-container-id-1 div.sk-label-container {\n",
              "  text-align: center;\n",
              "}\n",
              "\n",
              "/* Estimator-specific */\n",
              "#sk-container-id-1 div.sk-estimator {\n",
              "  font-family: monospace;\n",
              "  border: 1px dotted var(--sklearn-color-border-box);\n",
              "  border-radius: 0.25em;\n",
              "  box-sizing: border-box;\n",
              "  margin-bottom: 0.5em;\n",
              "  /* unfitted */\n",
              "  background-color: var(--sklearn-color-unfitted-level-0);\n",
              "}\n",
              "\n",
              "#sk-container-id-1 div.sk-estimator.fitted {\n",
              "  /* fitted */\n",
              "  background-color: var(--sklearn-color-fitted-level-0);\n",
              "}\n",
              "\n",
              "/* on hover */\n",
              "#sk-container-id-1 div.sk-estimator:hover {\n",
              "  /* unfitted */\n",
              "  background-color: var(--sklearn-color-unfitted-level-2);\n",
              "}\n",
              "\n",
              "#sk-container-id-1 div.sk-estimator.fitted:hover {\n",
              "  /* fitted */\n",
              "  background-color: var(--sklearn-color-fitted-level-2);\n",
              "}\n",
              "\n",
              "/* Specification for estimator info (e.g. \"i\" and \"?\") */\n",
              "\n",
              "/* Common style for \"i\" and \"?\" */\n",
              "\n",
              ".sk-estimator-doc-link,\n",
              "a:link.sk-estimator-doc-link,\n",
              "a:visited.sk-estimator-doc-link {\n",
              "  float: right;\n",
              "  font-size: smaller;\n",
              "  line-height: 1em;\n",
              "  font-family: monospace;\n",
              "  background-color: var(--sklearn-color-background);\n",
              "  border-radius: 1em;\n",
              "  height: 1em;\n",
              "  width: 1em;\n",
              "  text-decoration: none !important;\n",
              "  margin-left: 1ex;\n",
              "  /* unfitted */\n",
              "  border: var(--sklearn-color-unfitted-level-1) 1pt solid;\n",
              "  color: var(--sklearn-color-unfitted-level-1);\n",
              "}\n",
              "\n",
              ".sk-estimator-doc-link.fitted,\n",
              "a:link.sk-estimator-doc-link.fitted,\n",
              "a:visited.sk-estimator-doc-link.fitted {\n",
              "  /* fitted */\n",
              "  border: var(--sklearn-color-fitted-level-1) 1pt solid;\n",
              "  color: var(--sklearn-color-fitted-level-1);\n",
              "}\n",
              "\n",
              "/* On hover */\n",
              "div.sk-estimator:hover .sk-estimator-doc-link:hover,\n",
              ".sk-estimator-doc-link:hover,\n",
              "div.sk-label-container:hover .sk-estimator-doc-link:hover,\n",
              ".sk-estimator-doc-link:hover {\n",
              "  /* unfitted */\n",
              "  background-color: var(--sklearn-color-unfitted-level-3);\n",
              "  color: var(--sklearn-color-background);\n",
              "  text-decoration: none;\n",
              "}\n",
              "\n",
              "div.sk-estimator.fitted:hover .sk-estimator-doc-link.fitted:hover,\n",
              ".sk-estimator-doc-link.fitted:hover,\n",
              "div.sk-label-container:hover .sk-estimator-doc-link.fitted:hover,\n",
              ".sk-estimator-doc-link.fitted:hover {\n",
              "  /* fitted */\n",
              "  background-color: var(--sklearn-color-fitted-level-3);\n",
              "  color: var(--sklearn-color-background);\n",
              "  text-decoration: none;\n",
              "}\n",
              "\n",
              "/* Span, style for the box shown on hovering the info icon */\n",
              ".sk-estimator-doc-link span {\n",
              "  display: none;\n",
              "  z-index: 9999;\n",
              "  position: relative;\n",
              "  font-weight: normal;\n",
              "  right: .2ex;\n",
              "  padding: .5ex;\n",
              "  margin: .5ex;\n",
              "  width: min-content;\n",
              "  min-width: 20ex;\n",
              "  max-width: 50ex;\n",
              "  color: var(--sklearn-color-text);\n",
              "  box-shadow: 2pt 2pt 4pt #999;\n",
              "  /* unfitted */\n",
              "  background: var(--sklearn-color-unfitted-level-0);\n",
              "  border: .5pt solid var(--sklearn-color-unfitted-level-3);\n",
              "}\n",
              "\n",
              ".sk-estimator-doc-link.fitted span {\n",
              "  /* fitted */\n",
              "  background: var(--sklearn-color-fitted-level-0);\n",
              "  border: var(--sklearn-color-fitted-level-3);\n",
              "}\n",
              "\n",
              ".sk-estimator-doc-link:hover span {\n",
              "  display: block;\n",
              "}\n",
              "\n",
              "/* \"?\"-specific style due to the `<a>` HTML tag */\n",
              "\n",
              "#sk-container-id-1 a.estimator_doc_link {\n",
              "  float: right;\n",
              "  font-size: 1rem;\n",
              "  line-height: 1em;\n",
              "  font-family: monospace;\n",
              "  background-color: var(--sklearn-color-background);\n",
              "  border-radius: 1rem;\n",
              "  height: 1rem;\n",
              "  width: 1rem;\n",
              "  text-decoration: none;\n",
              "  /* unfitted */\n",
              "  color: var(--sklearn-color-unfitted-level-1);\n",
              "  border: var(--sklearn-color-unfitted-level-1) 1pt solid;\n",
              "}\n",
              "\n",
              "#sk-container-id-1 a.estimator_doc_link.fitted {\n",
              "  /* fitted */\n",
              "  border: var(--sklearn-color-fitted-level-1) 1pt solid;\n",
              "  color: var(--sklearn-color-fitted-level-1);\n",
              "}\n",
              "\n",
              "/* On hover */\n",
              "#sk-container-id-1 a.estimator_doc_link:hover {\n",
              "  /* unfitted */\n",
              "  background-color: var(--sklearn-color-unfitted-level-3);\n",
              "  color: var(--sklearn-color-background);\n",
              "  text-decoration: none;\n",
              "}\n",
              "\n",
              "#sk-container-id-1 a.estimator_doc_link.fitted:hover {\n",
              "  /* fitted */\n",
              "  background-color: var(--sklearn-color-fitted-level-3);\n",
              "}\n",
              "</style><div id=\"sk-container-id-1\" class=\"sk-top-container\"><div class=\"sk-text-repr-fallback\"><pre>LinearRegression()</pre><b>In a Jupyter environment, please rerun this cell to show the HTML representation or trust the notebook. <br />On GitHub, the HTML representation is unable to render, please try loading this page with nbviewer.org.</b></div><div class=\"sk-container\" hidden><div class=\"sk-item\"><div class=\"sk-estimator fitted sk-toggleable\"><input class=\"sk-toggleable__control sk-hidden--visually\" id=\"sk-estimator-id-1\" type=\"checkbox\" checked><label for=\"sk-estimator-id-1\" class=\"sk-toggleable__label fitted sk-toggleable__label-arrow fitted\">&nbsp;&nbsp;LinearRegression<a class=\"sk-estimator-doc-link fitted\" rel=\"noreferrer\" target=\"_blank\" href=\"https://scikit-learn.org/1.5/modules/generated/sklearn.linear_model.LinearRegression.html\">?<span>Documentation for LinearRegression</span></a><span class=\"sk-estimator-doc-link fitted\">i<span>Fitted</span></span></label><div class=\"sk-toggleable__content fitted\"><pre>LinearRegression()</pre></div> </div></div></div></div>"
            ]
          },
          "metadata": {},
          "execution_count": 63
        }
      ]
    },
    {
      "cell_type": "markdown",
      "source": [
        "Training Linear Regression Model"
      ],
      "metadata": {
        "id": "NRMT2PVTwr6M"
      }
    },
    {
      "cell_type": "code",
      "source": [
        "# Import necessary libraries\n",
        "from sklearn.linear_model import LinearRegression\n",
        "from sklearn.metrics import mean_absolute_error, mean_squared_error, r2_score\n",
        "\n",
        "# Create the Linear Regression model\n",
        "linear_model = LinearRegression()\n",
        "\n",
        "# Fit the model on the training data\n",
        "linear_model.fit(X_train, y_train)\n"
      ],
      "metadata": {
        "colab": {
          "base_uri": "https://localhost:8080/",
          "height": 80
        },
        "id": "wl34cVa0wniM",
        "outputId": "d84263c1-92ab-40d4-c7d4-a5ef07d4ef7d"
      },
      "execution_count": null,
      "outputs": [
        {
          "output_type": "execute_result",
          "data": {
            "text/plain": [
              "LinearRegression()"
            ],
            "text/html": [
              "<style>#sk-container-id-1 {\n",
              "  /* Definition of color scheme common for light and dark mode */\n",
              "  --sklearn-color-text: black;\n",
              "  --sklearn-color-line: gray;\n",
              "  /* Definition of color scheme for unfitted estimators */\n",
              "  --sklearn-color-unfitted-level-0: #fff5e6;\n",
              "  --sklearn-color-unfitted-level-1: #f6e4d2;\n",
              "  --sklearn-color-unfitted-level-2: #ffe0b3;\n",
              "  --sklearn-color-unfitted-level-3: chocolate;\n",
              "  /* Definition of color scheme for fitted estimators */\n",
              "  --sklearn-color-fitted-level-0: #f0f8ff;\n",
              "  --sklearn-color-fitted-level-1: #d4ebff;\n",
              "  --sklearn-color-fitted-level-2: #b3dbfd;\n",
              "  --sklearn-color-fitted-level-3: cornflowerblue;\n",
              "\n",
              "  /* Specific color for light theme */\n",
              "  --sklearn-color-text-on-default-background: var(--sg-text-color, var(--theme-code-foreground, var(--jp-content-font-color1, black)));\n",
              "  --sklearn-color-background: var(--sg-background-color, var(--theme-background, var(--jp-layout-color0, white)));\n",
              "  --sklearn-color-border-box: var(--sg-text-color, var(--theme-code-foreground, var(--jp-content-font-color1, black)));\n",
              "  --sklearn-color-icon: #696969;\n",
              "\n",
              "  @media (prefers-color-scheme: dark) {\n",
              "    /* Redefinition of color scheme for dark theme */\n",
              "    --sklearn-color-text-on-default-background: var(--sg-text-color, var(--theme-code-foreground, var(--jp-content-font-color1, white)));\n",
              "    --sklearn-color-background: var(--sg-background-color, var(--theme-background, var(--jp-layout-color0, #111)));\n",
              "    --sklearn-color-border-box: var(--sg-text-color, var(--theme-code-foreground, var(--jp-content-font-color1, white)));\n",
              "    --sklearn-color-icon: #878787;\n",
              "  }\n",
              "}\n",
              "\n",
              "#sk-container-id-1 {\n",
              "  color: var(--sklearn-color-text);\n",
              "}\n",
              "\n",
              "#sk-container-id-1 pre {\n",
              "  padding: 0;\n",
              "}\n",
              "\n",
              "#sk-container-id-1 input.sk-hidden--visually {\n",
              "  border: 0;\n",
              "  clip: rect(1px 1px 1px 1px);\n",
              "  clip: rect(1px, 1px, 1px, 1px);\n",
              "  height: 1px;\n",
              "  margin: -1px;\n",
              "  overflow: hidden;\n",
              "  padding: 0;\n",
              "  position: absolute;\n",
              "  width: 1px;\n",
              "}\n",
              "\n",
              "#sk-container-id-1 div.sk-dashed-wrapped {\n",
              "  border: 1px dashed var(--sklearn-color-line);\n",
              "  margin: 0 0.4em 0.5em 0.4em;\n",
              "  box-sizing: border-box;\n",
              "  padding-bottom: 0.4em;\n",
              "  background-color: var(--sklearn-color-background);\n",
              "}\n",
              "\n",
              "#sk-container-id-1 div.sk-container {\n",
              "  /* jupyter's `normalize.less` sets `[hidden] { display: none; }`\n",
              "     but bootstrap.min.css set `[hidden] { display: none !important; }`\n",
              "     so we also need the `!important` here to be able to override the\n",
              "     default hidden behavior on the sphinx rendered scikit-learn.org.\n",
              "     See: https://github.com/scikit-learn/scikit-learn/issues/21755 */\n",
              "  display: inline-block !important;\n",
              "  position: relative;\n",
              "}\n",
              "\n",
              "#sk-container-id-1 div.sk-text-repr-fallback {\n",
              "  display: none;\n",
              "}\n",
              "\n",
              "div.sk-parallel-item,\n",
              "div.sk-serial,\n",
              "div.sk-item {\n",
              "  /* draw centered vertical line to link estimators */\n",
              "  background-image: linear-gradient(var(--sklearn-color-text-on-default-background), var(--sklearn-color-text-on-default-background));\n",
              "  background-size: 2px 100%;\n",
              "  background-repeat: no-repeat;\n",
              "  background-position: center center;\n",
              "}\n",
              "\n",
              "/* Parallel-specific style estimator block */\n",
              "\n",
              "#sk-container-id-1 div.sk-parallel-item::after {\n",
              "  content: \"\";\n",
              "  width: 100%;\n",
              "  border-bottom: 2px solid var(--sklearn-color-text-on-default-background);\n",
              "  flex-grow: 1;\n",
              "}\n",
              "\n",
              "#sk-container-id-1 div.sk-parallel {\n",
              "  display: flex;\n",
              "  align-items: stretch;\n",
              "  justify-content: center;\n",
              "  background-color: var(--sklearn-color-background);\n",
              "  position: relative;\n",
              "}\n",
              "\n",
              "#sk-container-id-1 div.sk-parallel-item {\n",
              "  display: flex;\n",
              "  flex-direction: column;\n",
              "}\n",
              "\n",
              "#sk-container-id-1 div.sk-parallel-item:first-child::after {\n",
              "  align-self: flex-end;\n",
              "  width: 50%;\n",
              "}\n",
              "\n",
              "#sk-container-id-1 div.sk-parallel-item:last-child::after {\n",
              "  align-self: flex-start;\n",
              "  width: 50%;\n",
              "}\n",
              "\n",
              "#sk-container-id-1 div.sk-parallel-item:only-child::after {\n",
              "  width: 0;\n",
              "}\n",
              "\n",
              "/* Serial-specific style estimator block */\n",
              "\n",
              "#sk-container-id-1 div.sk-serial {\n",
              "  display: flex;\n",
              "  flex-direction: column;\n",
              "  align-items: center;\n",
              "  background-color: var(--sklearn-color-background);\n",
              "  padding-right: 1em;\n",
              "  padding-left: 1em;\n",
              "}\n",
              "\n",
              "\n",
              "/* Toggleable style: style used for estimator/Pipeline/ColumnTransformer box that is\n",
              "clickable and can be expanded/collapsed.\n",
              "- Pipeline and ColumnTransformer use this feature and define the default style\n",
              "- Estimators will overwrite some part of the style using the `sk-estimator` class\n",
              "*/\n",
              "\n",
              "/* Pipeline and ColumnTransformer style (default) */\n",
              "\n",
              "#sk-container-id-1 div.sk-toggleable {\n",
              "  /* Default theme specific background. It is overwritten whether we have a\n",
              "  specific estimator or a Pipeline/ColumnTransformer */\n",
              "  background-color: var(--sklearn-color-background);\n",
              "}\n",
              "\n",
              "/* Toggleable label */\n",
              "#sk-container-id-1 label.sk-toggleable__label {\n",
              "  cursor: pointer;\n",
              "  display: block;\n",
              "  width: 100%;\n",
              "  margin-bottom: 0;\n",
              "  padding: 0.5em;\n",
              "  box-sizing: border-box;\n",
              "  text-align: center;\n",
              "}\n",
              "\n",
              "#sk-container-id-1 label.sk-toggleable__label-arrow:before {\n",
              "  /* Arrow on the left of the label */\n",
              "  content: \"▸\";\n",
              "  float: left;\n",
              "  margin-right: 0.25em;\n",
              "  color: var(--sklearn-color-icon);\n",
              "}\n",
              "\n",
              "#sk-container-id-1 label.sk-toggleable__label-arrow:hover:before {\n",
              "  color: var(--sklearn-color-text);\n",
              "}\n",
              "\n",
              "/* Toggleable content - dropdown */\n",
              "\n",
              "#sk-container-id-1 div.sk-toggleable__content {\n",
              "  max-height: 0;\n",
              "  max-width: 0;\n",
              "  overflow: hidden;\n",
              "  text-align: left;\n",
              "  /* unfitted */\n",
              "  background-color: var(--sklearn-color-unfitted-level-0);\n",
              "}\n",
              "\n",
              "#sk-container-id-1 div.sk-toggleable__content.fitted {\n",
              "  /* fitted */\n",
              "  background-color: var(--sklearn-color-fitted-level-0);\n",
              "}\n",
              "\n",
              "#sk-container-id-1 div.sk-toggleable__content pre {\n",
              "  margin: 0.2em;\n",
              "  border-radius: 0.25em;\n",
              "  color: var(--sklearn-color-text);\n",
              "  /* unfitted */\n",
              "  background-color: var(--sklearn-color-unfitted-level-0);\n",
              "}\n",
              "\n",
              "#sk-container-id-1 div.sk-toggleable__content.fitted pre {\n",
              "  /* unfitted */\n",
              "  background-color: var(--sklearn-color-fitted-level-0);\n",
              "}\n",
              "\n",
              "#sk-container-id-1 input.sk-toggleable__control:checked~div.sk-toggleable__content {\n",
              "  /* Expand drop-down */\n",
              "  max-height: 200px;\n",
              "  max-width: 100%;\n",
              "  overflow: auto;\n",
              "}\n",
              "\n",
              "#sk-container-id-1 input.sk-toggleable__control:checked~label.sk-toggleable__label-arrow:before {\n",
              "  content: \"▾\";\n",
              "}\n",
              "\n",
              "/* Pipeline/ColumnTransformer-specific style */\n",
              "\n",
              "#sk-container-id-1 div.sk-label input.sk-toggleable__control:checked~label.sk-toggleable__label {\n",
              "  color: var(--sklearn-color-text);\n",
              "  background-color: var(--sklearn-color-unfitted-level-2);\n",
              "}\n",
              "\n",
              "#sk-container-id-1 div.sk-label.fitted input.sk-toggleable__control:checked~label.sk-toggleable__label {\n",
              "  background-color: var(--sklearn-color-fitted-level-2);\n",
              "}\n",
              "\n",
              "/* Estimator-specific style */\n",
              "\n",
              "/* Colorize estimator box */\n",
              "#sk-container-id-1 div.sk-estimator input.sk-toggleable__control:checked~label.sk-toggleable__label {\n",
              "  /* unfitted */\n",
              "  background-color: var(--sklearn-color-unfitted-level-2);\n",
              "}\n",
              "\n",
              "#sk-container-id-1 div.sk-estimator.fitted input.sk-toggleable__control:checked~label.sk-toggleable__label {\n",
              "  /* fitted */\n",
              "  background-color: var(--sklearn-color-fitted-level-2);\n",
              "}\n",
              "\n",
              "#sk-container-id-1 div.sk-label label.sk-toggleable__label,\n",
              "#sk-container-id-1 div.sk-label label {\n",
              "  /* The background is the default theme color */\n",
              "  color: var(--sklearn-color-text-on-default-background);\n",
              "}\n",
              "\n",
              "/* On hover, darken the color of the background */\n",
              "#sk-container-id-1 div.sk-label:hover label.sk-toggleable__label {\n",
              "  color: var(--sklearn-color-text);\n",
              "  background-color: var(--sklearn-color-unfitted-level-2);\n",
              "}\n",
              "\n",
              "/* Label box, darken color on hover, fitted */\n",
              "#sk-container-id-1 div.sk-label.fitted:hover label.sk-toggleable__label.fitted {\n",
              "  color: var(--sklearn-color-text);\n",
              "  background-color: var(--sklearn-color-fitted-level-2);\n",
              "}\n",
              "\n",
              "/* Estimator label */\n",
              "\n",
              "#sk-container-id-1 div.sk-label label {\n",
              "  font-family: monospace;\n",
              "  font-weight: bold;\n",
              "  display: inline-block;\n",
              "  line-height: 1.2em;\n",
              "}\n",
              "\n",
              "#sk-container-id-1 div.sk-label-container {\n",
              "  text-align: center;\n",
              "}\n",
              "\n",
              "/* Estimator-specific */\n",
              "#sk-container-id-1 div.sk-estimator {\n",
              "  font-family: monospace;\n",
              "  border: 1px dotted var(--sklearn-color-border-box);\n",
              "  border-radius: 0.25em;\n",
              "  box-sizing: border-box;\n",
              "  margin-bottom: 0.5em;\n",
              "  /* unfitted */\n",
              "  background-color: var(--sklearn-color-unfitted-level-0);\n",
              "}\n",
              "\n",
              "#sk-container-id-1 div.sk-estimator.fitted {\n",
              "  /* fitted */\n",
              "  background-color: var(--sklearn-color-fitted-level-0);\n",
              "}\n",
              "\n",
              "/* on hover */\n",
              "#sk-container-id-1 div.sk-estimator:hover {\n",
              "  /* unfitted */\n",
              "  background-color: var(--sklearn-color-unfitted-level-2);\n",
              "}\n",
              "\n",
              "#sk-container-id-1 div.sk-estimator.fitted:hover {\n",
              "  /* fitted */\n",
              "  background-color: var(--sklearn-color-fitted-level-2);\n",
              "}\n",
              "\n",
              "/* Specification for estimator info (e.g. \"i\" and \"?\") */\n",
              "\n",
              "/* Common style for \"i\" and \"?\" */\n",
              "\n",
              ".sk-estimator-doc-link,\n",
              "a:link.sk-estimator-doc-link,\n",
              "a:visited.sk-estimator-doc-link {\n",
              "  float: right;\n",
              "  font-size: smaller;\n",
              "  line-height: 1em;\n",
              "  font-family: monospace;\n",
              "  background-color: var(--sklearn-color-background);\n",
              "  border-radius: 1em;\n",
              "  height: 1em;\n",
              "  width: 1em;\n",
              "  text-decoration: none !important;\n",
              "  margin-left: 1ex;\n",
              "  /* unfitted */\n",
              "  border: var(--sklearn-color-unfitted-level-1) 1pt solid;\n",
              "  color: var(--sklearn-color-unfitted-level-1);\n",
              "}\n",
              "\n",
              ".sk-estimator-doc-link.fitted,\n",
              "a:link.sk-estimator-doc-link.fitted,\n",
              "a:visited.sk-estimator-doc-link.fitted {\n",
              "  /* fitted */\n",
              "  border: var(--sklearn-color-fitted-level-1) 1pt solid;\n",
              "  color: var(--sklearn-color-fitted-level-1);\n",
              "}\n",
              "\n",
              "/* On hover */\n",
              "div.sk-estimator:hover .sk-estimator-doc-link:hover,\n",
              ".sk-estimator-doc-link:hover,\n",
              "div.sk-label-container:hover .sk-estimator-doc-link:hover,\n",
              ".sk-estimator-doc-link:hover {\n",
              "  /* unfitted */\n",
              "  background-color: var(--sklearn-color-unfitted-level-3);\n",
              "  color: var(--sklearn-color-background);\n",
              "  text-decoration: none;\n",
              "}\n",
              "\n",
              "div.sk-estimator.fitted:hover .sk-estimator-doc-link.fitted:hover,\n",
              ".sk-estimator-doc-link.fitted:hover,\n",
              "div.sk-label-container:hover .sk-estimator-doc-link.fitted:hover,\n",
              ".sk-estimator-doc-link.fitted:hover {\n",
              "  /* fitted */\n",
              "  background-color: var(--sklearn-color-fitted-level-3);\n",
              "  color: var(--sklearn-color-background);\n",
              "  text-decoration: none;\n",
              "}\n",
              "\n",
              "/* Span, style for the box shown on hovering the info icon */\n",
              ".sk-estimator-doc-link span {\n",
              "  display: none;\n",
              "  z-index: 9999;\n",
              "  position: relative;\n",
              "  font-weight: normal;\n",
              "  right: .2ex;\n",
              "  padding: .5ex;\n",
              "  margin: .5ex;\n",
              "  width: min-content;\n",
              "  min-width: 20ex;\n",
              "  max-width: 50ex;\n",
              "  color: var(--sklearn-color-text);\n",
              "  box-shadow: 2pt 2pt 4pt #999;\n",
              "  /* unfitted */\n",
              "  background: var(--sklearn-color-unfitted-level-0);\n",
              "  border: .5pt solid var(--sklearn-color-unfitted-level-3);\n",
              "}\n",
              "\n",
              ".sk-estimator-doc-link.fitted span {\n",
              "  /* fitted */\n",
              "  background: var(--sklearn-color-fitted-level-0);\n",
              "  border: var(--sklearn-color-fitted-level-3);\n",
              "}\n",
              "\n",
              ".sk-estimator-doc-link:hover span {\n",
              "  display: block;\n",
              "}\n",
              "\n",
              "/* \"?\"-specific style due to the `<a>` HTML tag */\n",
              "\n",
              "#sk-container-id-1 a.estimator_doc_link {\n",
              "  float: right;\n",
              "  font-size: 1rem;\n",
              "  line-height: 1em;\n",
              "  font-family: monospace;\n",
              "  background-color: var(--sklearn-color-background);\n",
              "  border-radius: 1rem;\n",
              "  height: 1rem;\n",
              "  width: 1rem;\n",
              "  text-decoration: none;\n",
              "  /* unfitted */\n",
              "  color: var(--sklearn-color-unfitted-level-1);\n",
              "  border: var(--sklearn-color-unfitted-level-1) 1pt solid;\n",
              "}\n",
              "\n",
              "#sk-container-id-1 a.estimator_doc_link.fitted {\n",
              "  /* fitted */\n",
              "  border: var(--sklearn-color-fitted-level-1) 1pt solid;\n",
              "  color: var(--sklearn-color-fitted-level-1);\n",
              "}\n",
              "\n",
              "/* On hover */\n",
              "#sk-container-id-1 a.estimator_doc_link:hover {\n",
              "  /* unfitted */\n",
              "  background-color: var(--sklearn-color-unfitted-level-3);\n",
              "  color: var(--sklearn-color-background);\n",
              "  text-decoration: none;\n",
              "}\n",
              "\n",
              "#sk-container-id-1 a.estimator_doc_link.fitted:hover {\n",
              "  /* fitted */\n",
              "  background-color: var(--sklearn-color-fitted-level-3);\n",
              "}\n",
              "</style><div id=\"sk-container-id-1\" class=\"sk-top-container\"><div class=\"sk-text-repr-fallback\"><pre>LinearRegression()</pre><b>In a Jupyter environment, please rerun this cell to show the HTML representation or trust the notebook. <br />On GitHub, the HTML representation is unable to render, please try loading this page with nbviewer.org.</b></div><div class=\"sk-container\" hidden><div class=\"sk-item\"><div class=\"sk-estimator fitted sk-toggleable\"><input class=\"sk-toggleable__control sk-hidden--visually\" id=\"sk-estimator-id-1\" type=\"checkbox\" checked><label for=\"sk-estimator-id-1\" class=\"sk-toggleable__label fitted sk-toggleable__label-arrow fitted\">&nbsp;&nbsp;LinearRegression<a class=\"sk-estimator-doc-link fitted\" rel=\"noreferrer\" target=\"_blank\" href=\"https://scikit-learn.org/1.5/modules/generated/sklearn.linear_model.LinearRegression.html\">?<span>Documentation for LinearRegression</span></a><span class=\"sk-estimator-doc-link fitted\">i<span>Fitted</span></span></label><div class=\"sk-toggleable__content fitted\"><pre>LinearRegression()</pre></div> </div></div></div></div>"
            ]
          },
          "metadata": {},
          "execution_count": 45
        }
      ]
    },
    {
      "cell_type": "code",
      "source": [
        "# Make predictions on the training set\n",
        "y_train_pred = linear_model.predict(X_train)\n",
        "\n",
        "# Make predictions on the test set\n",
        "y_test_pred = linear_model.predict(X_test)\n",
        "\n",
        "# Calculate metrics for the training set\n",
        "train_mae = mean_absolute_error(y_train, y_train_pred)\n",
        "train_mse = mean_squared_error(y_train, y_train_pred)\n",
        "train_r2 = r2_score(y_train, y_train_pred)\n",
        "\n",
        "# Calculate metrics for the test set\n",
        "test_mae = mean_absolute_error(y_test, y_test_pred)\n",
        "test_mse = mean_squared_error(y_test, y_test_pred)\n",
        "test_r2 = r2_score(y_test, y_test_pred)\n",
        "\n",
        "# Print the results\n",
        "print(\"Training Set Metrics:\")\n",
        "print(f\"Mean Absolute Error: {train_mae:.2f}\")\n",
        "print(f\"Mean Squared Error: {train_mse:.2f}\")\n",
        "print(f\"R^2 Score: {train_r2:.2f}\")\n",
        "\n",
        "print(\"\\nTest Set Metrics:\")\n",
        "print(f\"Mean Absolute Error: {test_mae:.2f}\")\n",
        "print(f\"Mean Squared Error: {test_mse:.2f}\")\n",
        "print(f\"R^2 Score: {test_r2:.2f}\")"
      ],
      "metadata": {
        "colab": {
          "base_uri": "https://localhost:8080/"
        },
        "id": "s70mi28bey3q",
        "outputId": "9867afec-a5a7-4726-e09b-6c641148147c"
      },
      "execution_count": null,
      "outputs": [
        {
          "output_type": "stream",
          "name": "stdout",
          "text": [
            "Training Set Metrics:\n",
            "Mean Absolute Error: 3143.58\n",
            "Mean Squared Error: 17453029.75\n",
            "R^2 Score: 0.70\n",
            "\n",
            "Test Set Metrics:\n",
            "Mean Absolute Error: 3161.47\n",
            "Mean Squared Error: 17686654.33\n",
            "R^2 Score: 0.69\n"
          ]
        }
      ]
    },
    {
      "cell_type": "code",
      "source": [
        "import pickle\n",
        "\n",
        "# Save the trained model as a pickle file\n",
        "model_filename = 'mmr_prediction_model.pkl'\n",
        "with open(model_filename, 'wb') as file:\n",
        "    pickle.dump(linear_model, file)\n",
        "\n",
        "print(f'Model saved as {model_filename}')\n"
      ],
      "metadata": {
        "colab": {
          "base_uri": "https://localhost:8080/"
        },
        "id": "qXTJvaQuySEX",
        "outputId": "25460755-31c0-4ad0-a05d-618758131149"
      },
      "execution_count": null,
      "outputs": [
        {
          "output_type": "stream",
          "name": "stdout",
          "text": [
            "Model saved as mmr_prediction_model.pkl\n"
          ]
        }
      ]
    },
    {
      "cell_type": "code",
      "source": [],
      "metadata": {
        "id": "OxUrwgxo0m6S"
      },
      "execution_count": null,
      "outputs": []
    },
    {
      "cell_type": "code",
      "source": [
        "# Load the trained model from the pickle file\n",
        "model_filename = 'mmr_prediction_model.pkl'\n",
        "with open(model_filename, 'rb') as file:\n",
        "    model = pickle.load(file)\n",
        "\n",
        "# Check the type of the loaded model\n",
        "st.write(f'Type of loaded model: {type(model)}')"
      ],
      "metadata": {
        "id": "yK-l2gZS0hys",
        "outputId": "81bce7f9-8fed-47e5-a35e-218d0cebd252",
        "colab": {
          "base_uri": "https://localhost:8080/",
          "height": 176
        }
      },
      "execution_count": null,
      "outputs": [
        {
          "output_type": "error",
          "ename": "NameError",
          "evalue": "name 'st' is not defined",
          "traceback": [
            "\u001b[0;31m---------------------------------------------------------------------------\u001b[0m",
            "\u001b[0;31mNameError\u001b[0m                                 Traceback (most recent call last)",
            "\u001b[0;32m<ipython-input-78-0810ecd36d7b>\u001b[0m in \u001b[0;36m<cell line: 7>\u001b[0;34m()\u001b[0m\n\u001b[1;32m      5\u001b[0m \u001b[0;34m\u001b[0m\u001b[0m\n\u001b[1;32m      6\u001b[0m \u001b[0;31m# Check the type of the loaded model\u001b[0m\u001b[0;34m\u001b[0m\u001b[0;34m\u001b[0m\u001b[0m\n\u001b[0;32m----> 7\u001b[0;31m \u001b[0mst\u001b[0m\u001b[0;34m.\u001b[0m\u001b[0mwrite\u001b[0m\u001b[0;34m(\u001b[0m\u001b[0;34mf'Type of loaded model: {type(model)}'\u001b[0m\u001b[0;34m)\u001b[0m\u001b[0;34m\u001b[0m\u001b[0;34m\u001b[0m\u001b[0m\n\u001b[0m",
            "\u001b[0;31mNameError\u001b[0m: name 'st' is not defined"
          ]
        }
      ]
    },
    {
      "cell_type": "code",
      "source": [
        "import pickle\n",
        "\n",
        "# Train the model\n",
        "linear_model = LinearRegression()\n",
        "linear_model.fit(X_train, y_train)\n",
        "\n",
        "# Dump the model to a pickle file\n",
        "with open('linear_model.pkl', 'wb') as file:\n",
        "    pickle.dump(linear_model, file)\n",
        "\n",
        "print(\"Model saved as linear_model.pkl\")\n",
        "\n"
      ],
      "metadata": {
        "colab": {
          "base_uri": "https://localhost:8080/"
        },
        "id": "mxtSpu1FfqvL",
        "outputId": "487c5c97-235f-4f42-dfc9-c9dafa74a245"
      },
      "execution_count": null,
      "outputs": [
        {
          "output_type": "stream",
          "name": "stdout",
          "text": [
            "Model saved as linear_model.pkl\n"
          ]
        }
      ]
    },
    {
      "cell_type": "code",
      "source": [
        "import pickle\n",
        "\n",
        "# Define the filename (same as the saved one)\n",
        "model_filename = 'linear_regression_model.pkl'\n",
        "\n",
        "# Load the model from the pickle file\n",
        "with open(model_filename, 'rb') as file:\n",
        "    loaded_model = pickle.load(file)\n",
        "\n",
        "# You can now use the loaded model to make predictions or evaluate\n",
        "# For example, making predictions on the test set:\n",
        "y_test_pred_loaded = loaded_model.predict(X_test)\n",
        "\n",
        "# Evaluate the loaded model's performance on the test set\n",
        "test_mae_loaded = mean_absolute_error(y_test, y_test_pred_loaded)\n",
        "test_mse_loaded = mean_squared_error(y_test, y_test_pred_loaded)\n",
        "test_r2_loaded = r2_score(y_test, y_test_pred_loaded)\n",
        "\n",
        "# Print the evaluation metrics for the loaded model\n",
        "print(\"Loaded Model - Test Set Metrics:\")\n",
        "print(f\"Mean Absolute Error: {test_mae_loaded:.2f}\")\n",
        "print(f\"Mean Squared Error: {test_mse_loaded:.2f}\")\n",
        "print(f\"R^2 Score: {test_r2_loaded:.2f}\")"
      ],
      "metadata": {
        "colab": {
          "base_uri": "https://localhost:8080/"
        },
        "id": "DNtkoYvsqYGN",
        "outputId": "10563570-05f2-43d6-d079-09b72eea2a94"
      },
      "execution_count": null,
      "outputs": [
        {
          "output_type": "stream",
          "name": "stdout",
          "text": [
            "Loaded Model - Test Set Metrics:\n",
            "Mean Absolute Error: 3161.47\n",
            "Mean Squared Error: 17686654.33\n",
            "R^2 Score: 0.69\n"
          ]
        }
      ]
    },
    {
      "cell_type": "code",
      "source": [
        "import pandas as pd\n",
        "import pickle\n",
        "from sklearn.model_selection import train_test_split, cross_val_score\n",
        "from sklearn.linear_model import LinearRegression\n",
        "from sklearn.metrics import mean_absolute_error, mean_squared_error, r2_score\n",
        "from sklearn.preprocessing import StandardScaler\n",
        "import matplotlib.pyplot as plt\n",
        "from statsmodels.stats.outliers_influence import variance_inflation_factor\n",
        "\n",
        "# Load the dataset\n",
        "file_path = \"./carprices.csv\"\n",
        "df = pd.read_csv(file_path)\n",
        "\n",
        "# List and drop columns that are less related to the target based on judgement\n",
        "cols_to_drop = ['transmission', 'sellingprice', 'saledate', 'vin']\n",
        "df.drop(cols_to_drop, axis=1, inplace=True)\n",
        "\n",
        "# Drop rows with missing target and other important features\n",
        "df.dropna(subset=['state', 'make', 'model', 'trim', 'body', 'condition', 'odometer', 'color', 'interior', 'mmr'], inplace=True)\n",
        "\n",
        "# Handle duplicates\n",
        "df.drop_duplicates(inplace=True)\n",
        "\n",
        "# Outlier detection using IQR\n",
        "Q1 = df['mmr'].quantile(0.25)\n",
        "Q3 = df['mmr'].quantile(0.75)\n",
        "IQR = Q3 - Q1\n",
        "df = df[(df['mmr'] >= (Q1 - 1.5 * IQR)) & (df['mmr'] <= (Q3 + 1.5 * IQR))]\n",
        "\n",
        "def one_hot_encode(df, column, top_n):\n",
        "    frequency_counts = df[column].value_counts()\n",
        "    top_items = frequency_counts.nlargest(top_n).index.tolist()\n",
        "    df[column] = df[column].apply(lambda x: x if x in top_items else 'Other')\n",
        "    return pd.get_dummies(df, columns=[column], prefix='', prefix_sep='')\n",
        "\n",
        "# Apply one-hot encoding to categorical columns\n",
        "categorical_columns = {\n",
        "    'make': 10,\n",
        "    'model': 10,\n",
        "    'trim': 10,\n",
        "    'body': 6,\n",
        "    'state': 15,\n",
        "    'color': 6,\n",
        "    'interior': 6,\n",
        "    'seller': 15\n",
        "}\n",
        "\n",
        "for column, top_n in categorical_columns.items():\n",
        "    df = one_hot_encode(df, column, top_n)\n",
        "\n",
        "# Final dataframe preparation\n",
        "df_new = df.replace(False, 0)  # Replace any remaining False values with 0\n",
        "X = df_new.drop(columns='mmr')\n",
        "y = df_new['mmr']\n",
        "\n",
        "# Feature Scaling\n",
        "scaler = StandardScaler()\n",
        "X_scaled = scaler.fit_transform(X)\n",
        "\n",
        "# Split into training and test sets (80% training, 20% testing)\n",
        "X_train, X_test, y_train, y_test = train_test_split(X_scaled, y, test_size=0.2, random_state=42)\n",
        "\n",
        "# Create and fit the Linear Regression model\n",
        "linear_model = LinearRegression()\n",
        "linear_model.fit(X_train, y_train)\n",
        "\n",
        "# Make predictions\n",
        "y_train_pred = linear_model.predict(X_train)\n",
        "y_test_pred = linear_model.predict(X_test)\n",
        "\n",
        "# Calculate metrics\n",
        "train_mae = mean_absolute_error(y_train, y_train_pred)\n",
        "train_mse = mean_squared_error(y_train, y_train_pred)\n",
        "train_r2 = r2_score(y_train, y_train_pred)\n",
        "\n",
        "test_mae = mean_absolute_error(y_test, y_test_pred)\n",
        "test_mse = mean_squared_error(y_test, y_test_pred)\n",
        "test_r2 = r2_score(y_test, y_test_pred)\n",
        "\n",
        "# Print metrics\n",
        "print(\"Training Set Metrics:\")\n",
        "print(f\"Mean Absolute Error: {train_mae:.2f}\")\n",
        "print(f\"Mean Squared Error: {train_mse:.2f}\")\n",
        "print(f\"R^2 Score: {train_r2:.2f}\")\n",
        "\n",
        "print(\"\\nTest Set Metrics:\")\n",
        "print(f\"Mean Absolute Error: {test_mae:.2f}\")\n",
        "print(f\"Mean Squared Error: {test_mse:.2f}\")\n",
        "print(f\"R^2 Score: {test_r2:.2f}\")\n",
        "\n",
        "# Save the model as a pickle file\n",
        "with open('mmr_predictor_model2.pkl', 'wb') as model_file:\n",
        "    pickle.dump(linear_model, model_file)\n",
        "\n",
        "print(\"Model saved as 'mmr_predictor_model2.pkl'\")\n",
        "\n",
        "# Optional: Cross-validation\n",
        "cv_scores = cross_val_score(linear_model, X_scaled, y, cv=5, scoring='neg_mean_absolute_error')\n",
        "print(f\"Cross-Validation MAE: {-cv_scores.mean():.2f}\")\n",
        "\n",
        "# Optional: Visualizing Predictions\n",
        "plt.scatter(y_test, y_test_pred)\n",
        "plt.xlabel('Actual MMR')\n",
        "plt.ylabel('Predicted MMR')\n",
        "plt.title('Actual vs Predicted MMR')\n",
        "plt.plot([y_test.min(), y_test.max()], [y_test.min(), y_test.max()], color='red', linewidth=2)  # Diagonal line\n",
        "plt.show()\n",
        "\n",
        "# Examine model coefficients\n",
        "coefficients = pd.DataFrame(linear_model.coef_, X.columns, columns=['Coefficient'])\n",
        "print(coefficients)\n",
        "\n",
        "# Plotting the coefficients\n",
        "plt.figure(figsize=(10, 6))\n",
        "coefficients['Coefficient'].sort_values().plot(kind='barh')\n",
        "plt.title('Feature Coefficients')\n",
        "plt.show()\n",
        "\n",
        "# Residuals Analysis\n",
        "residuals = y_test - y_test_pred\n",
        "plt.figure(figsize=(10, 6))\n",
        "plt.scatter(y_test_pred, residuals)\n",
        "plt.axhline(0, color='red', linestyle='--')\n",
        "plt.xlabel('Predicted MMR')\n",
        "plt.ylabel('Residuals')\n",
        "plt.title('Residuals vs Predicted MMR')\n",
        "plt.show()\n",
        "\n",
        "# Check for multicollinearity using VIF\n",
        "vif_data = pd.DataFrame()\n",
        "vif_data[\"Feature\"] = X.columns\n",
        "vif_data[\"VIF\"] = [variance_inflation_factor(X_scaled, i) for i in range(X_scaled.shape[1])]\n",
        "print(vif_data)\n",
        "\n",
        "# Error Analysis\n",
        "error_df = pd.DataFrame({'Actual': y_test, 'Predicted': y_test_pred, 'Error': residuals})\n",
        "print(error_df.sort_values(by='Error', ascending=False).head(10))  # Show the top 10 largest errors\n"
      ],
      "metadata": {
        "id": "0NLXThbOq4P_",
        "colab": {
          "base_uri": "https://localhost:8080/",
          "height": 1000
        },
        "outputId": "7b28aa88-59b0-4ed7-dc40-a77b4ec2fde8"
      },
      "execution_count": null,
      "outputs": [
        {
          "output_type": "stream",
          "name": "stdout",
          "text": [
            "Training Set Metrics:\n",
            "Mean Absolute Error: 3140.27\n",
            "Mean Squared Error: 17413004.48\n",
            "R^2 Score: 0.70\n",
            "\n",
            "Test Set Metrics:\n",
            "Mean Absolute Error: 3157.57\n",
            "Mean Squared Error: 17641034.09\n",
            "R^2 Score: 0.69\n",
            "Model saved as 'mmr_predictor_model2.pkl'\n",
            "Cross-Validation MAE: 3272.54\n"
          ]
        },
        {
          "output_type": "display_data",
          "data": {
            "text/plain": [
              "<Figure size 640x480 with 1 Axes>"
            ],
            "image/png": "[encoded data removed]"
          },
          "metadata": {}
        },
        {
          "output_type": "stream",
          "name": "stdout",
          "text": [
            "                              Coefficient\n",
            "year                         3.933691e+03\n",
            "condition                    2.632752e+02\n",
            "odometer                    -2.214664e+03\n",
            "BMW                          3.415569e+15\n",
            "Chevrolet                    6.010239e+15\n",
            "...                                   ...\n",
            "nissan-infiniti lt           4.231100e+15\n",
            "santander consumer           3.706702e+15\n",
            "tdaf remarketing             2.508702e+15\n",
            "the hertz corporation        4.046711e+15\n",
            "wells fargo dealer services  2.814320e+15\n",
            "\n",
            "[89 rows x 1 columns]\n"
          ]
        },
        {
          "output_type": "display_data",
          "data": {
            "text/plain": [
              "<Figure size 1000x600 with 1 Axes>"
            ],
            "image/png": "[encoded data removed]"
          },
          "metadata": {}
        },
        {
          "output_type": "display_data",
          "data": {
            "text/plain": [
              "<Figure size 1000x600 with 1 Axes>"
            ],
            "image/png": "[encoded data removed]"
          },
          "metadata": {}
        },
        {
          "output_type": "stream",
          "name": "stderr",
          "text": [
            "/usr/local/lib/python3.10/dist-packages/statsmodels/stats/outliers_influence.py:197: RuntimeWarning: divide by zero encountered in scalar divide\n",
            "  vif = 1. / (1. - r_squared_i)\n"
          ]
        },
        {
          "output_type": "stream",
          "name": "stdout",
          "text": [
            "                        Feature       VIF\n",
            "0                          year  2.993652\n",
            "1                     condition  1.202796\n",
            "2                      odometer  2.722434\n",
            "3                           BMW       inf\n",
            "4                     Chevrolet       inf\n",
            "..                          ...       ...\n",
            "84           nissan-infiniti lt       inf\n",
            "85           santander consumer       inf\n",
            "86             tdaf remarketing       inf\n",
            "87        the hertz corporation       inf\n",
            "88  wells fargo dealer services       inf\n",
            "\n",
            "[89 rows x 2 columns]\n",
            "         Actual     Predicted         Error\n",
            "179448  12550.0 -28390.573253  40940.573253\n",
            "321728    650.0 -37694.573253  38344.573253\n",
            "103031  10750.0 -27482.573253  38232.573253\n",
            "406428    100.0 -37826.573253  37926.573253\n",
            "168800   1550.0 -35850.573253  37400.573253\n",
            "485268   2725.0 -34008.573253  36733.573253\n",
            "166054   3725.0 -32898.573253  36623.573253\n",
            "76882    1850.0 -33817.573253  35667.573253\n",
            "117972   1200.0 -34248.573253  35448.573253\n",
            "321671    175.0 -34808.573253  34983.573253\n"
          ]
        }
      ]
    }
  ]
}