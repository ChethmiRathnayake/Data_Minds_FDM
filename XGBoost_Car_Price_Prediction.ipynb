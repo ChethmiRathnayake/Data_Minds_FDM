{
 "cells": [
  {
   "cell_type": "code",
   "execution_count": null,
   "id": "4063f98a",
   "metadata": {},
   "outputs": [],
   "source": [
    "pip install category_encoders"
   ]
  },
  {
   "cell_type": "code",
   "execution_count": null,
   "id": "5439dbac",
   "metadata": {},
   "outputs": [],
   "source": [
    "!pip install scikit-optimize\n"
   ]
  },
  {
   "cell_type": "markdown",
   "id": "9d61e9ff",
   "metadata": {},
   "source": [
    "# Step 1 - Explore and prep data"
   ]
  },
  {
   "cell_type": "code",
   "execution_count": null,
   "id": "b3d13935",
   "metadata": {},
   "outputs": [],
   "source": [
    "import pandas as pd\n",
    "\n",
    "df = pd.read_csv(\"C:\\\\Users\\\\rmct2\\\\OneDrive - Sri Lanka Institute of Information Technology\\\\Desktop\\\\SLIIT\\\\Y3S1\\\\FDM\\\\car_prices.csv\")"
   ]
  },
  {
   "cell_type": "code",
   "execution_count": null,
   "id": "2e807c2c",
   "metadata": {},
   "outputs": [],
   "source": [
    "#list and drop columns that are less related to the target based on my judgement\n",
    "cols_to_drop = ['transmission','vin', 'state','sellingprice','saledate']\n",
    "\n",
    "#at the same time rename the columns so they are understandable.\n",
    "df = df.drop(columns = cols_to_drop).rename(columns = {'year':'manufacture_year','make':'brand','model':'specific_model',\n",
    "                                                      'trim':'additional_designation','interior':'interior_color','mmr':'estimated_value'})\n",
    "\n"
   ]
  },
  {
   "cell_type": "code",
   "execution_count": null,
   "id": "a9bf29b1",
   "metadata": {},
   "outputs": [],
   "source": [
    "df.head()"
   ]
  },
  {
   "cell_type": "code",
   "execution_count": null,
   "id": "d2ff875d",
   "metadata": {},
   "outputs": [],
   "source": [
    "df.info()"
   ]
  },
  {
   "cell_type": "code",
   "execution_count": null,
   "id": "dff77a66",
   "metadata": {},
   "outputs": [],
   "source": [
    "df.isnull().sum()"
   ]
  },
  {
   "cell_type": "code",
   "execution_count": null,
   "id": "54ecf128",
   "metadata": {},
   "outputs": [],
   "source": [
    "df = df.dropna(subset=['brand', 'specific_model', 'additional_designation','body','condition','odometer','color','interior_color','estimated_value'])"
   ]
  },
  {
   "cell_type": "code",
   "execution_count": null,
   "id": "2f6a589c",
   "metadata": {},
   "outputs": [],
   "source": [
    "#Split to training and testing\n",
    "\n",
    "from sklearn.model_selection import train_test_split\n",
    "\n",
    "x = df.drop(columns = 'estimated_value')\n",
    "y = df['estimated_value']\n",
    "\n",
    "X_train, X_test, Y_train, Y_test = train_test_split(x, y, test_size=0.2,random_state=8)"
   ]
  },
  {
   "cell_type": "markdown",
   "id": "5001a958",
   "metadata": {},
   "source": [
    "# Step 2 - Build a pipeline of training"
   ]
  },
  {
   "cell_type": "code",
   "execution_count": null,
   "id": "e9983c6f",
   "metadata": {},
   "outputs": [],
   "source": [
    "from sklearn.pipeline import Pipeline\n",
    "from category_encoders.target_encoder import TargetEncoder\n",
    "from xgboost import XGBRegressor\n",
    "\n",
    "estimators = [\n",
    "    ('encoder', TargetEncoder()),  # Categorical encoding\n",
    "    ('reg', XGBRegressor(random_state=8))  # Regression model for continuous target\n",
    "]\n",
    "pipe = Pipeline(steps=estimators)\n",
    "pipe\n"
   ]
  },
  {
   "cell_type": "markdown",
   "id": "ced0291b",
   "metadata": {},
   "source": [
    "# Step 3 - Set up hyperparameter tuning"
   ]
  },
  {
   "cell_type": "code",
   "execution_count": null,
   "id": "61e5fc73",
   "metadata": {},
   "outputs": [],
   "source": [
    "from skopt import BayesSearchCV\n",
    "from skopt.space import Real, Categorical, Integer\n",
    "\n",
    "# Updated search space\n",
    "search_space = {\n",
    "    'reg__n_estimators': (100, 1000),  # Prefix with 'reg__'\n",
    "    'reg__max_depth': (3, 10),\n",
    "    'reg__learning_rate': (0.01, 0.3, 'uniform')\n",
    "}\n",
    "\n",
    "# Perform Bayesian search over the pipeline\n",
    "opt = BayesSearchCV(pipe, search_space, n_iter=50, scoring='neg_mean_squared_error', n_jobs=-1)"
   ]
  },
  {
   "cell_type": "markdown",
   "id": "d0e56a19",
   "metadata": {},
   "source": [
    "# Step 4 - Train the XGBoost Model"
   ]
  },
  {
   "cell_type": "code",
   "execution_count": null,
   "id": "5c908446",
   "metadata": {},
   "outputs": [],
   "source": [
    "opt.fit(X_train, Y_train)"
   ]
  },
  {
   "cell_type": "markdown",
   "id": "426dedfa",
   "metadata": {},
   "source": [
    "# Step 5 - Evaluate the model and make predictions"
   ]
  },
  {
   "cell_type": "code",
   "execution_count": null,
   "id": "257d1094",
   "metadata": {},
   "outputs": [],
   "source": [
    "opt.best_estimator_"
   ]
  },
  {
   "cell_type": "code",
   "execution_count": null,
   "id": "9f2c6d8d",
   "metadata": {},
   "outputs": [],
   "source": [
    "opt.best_score_"
   ]
  },
  {
   "cell_type": "code",
   "execution_count": null,
   "id": "1b6cfbf5",
   "metadata": {},
   "outputs": [],
   "source": [
    "opt.score(X_test, Y_test)"
   ]
  },
  {
   "cell_type": "code",
   "execution_count": null,
   "id": "f32f3eb4",
   "metadata": {},
   "outputs": [],
   "source": [
    "opt.predict(X_test)"
   ]
  },
  {
   "cell_type": "code",
   "execution_count": null,
   "id": "b6787433",
   "metadata": {},
   "outputs": [],
   "source": [
    "# For regression, use predict instead \n",
    "predictions = opt.predict(X_test)"
   ]
  },
  {
   "cell_type": "code",
   "execution_count": null,
   "id": "2c46df20",
   "metadata": {},
   "outputs": [],
   "source": [
    "from sklearn.metrics import r2_score\n",
    "\n",
    "# Predictions from your model\n",
    "predictions = opt.predict(X_test)\n",
    "\n",
    "# Calculate R-squared\n",
    "r2 = r2_score(Y_test, predictions)\n",
    "print(f'R-squared: {r2}')\n"
   ]
  },
  {
   "cell_type": "code",
   "execution_count": null,
   "id": "a470b2df",
   "metadata": {},
   "outputs": [],
   "source": [
    "from sklearn.metrics import mean_absolute_error\n",
    "\n",
    "# Calculate Mean Absolute Error\n",
    "mae = mean_absolute_error(Y_test, predictions)\n",
    "print(f'Mean Absolute Error: {mae}')\n"
   ]
  },
  {
   "cell_type": "code",
   "execution_count": null,
   "id": "eb2cf761",
   "metadata": {},
   "outputs": [],
   "source": [
    "from sklearn.metrics import r2_score, mean_absolute_error\n",
    "\n",
    "# Make predictions on the test set\n",
    "predictions = opt.predict(X_test)\n",
    "\n",
    "# Calculate R-squared on the test set\n",
    "r2 = r2_score(Y_test, predictions)\n",
    "print(f'R-squared on Test Data: {r2}')\n",
    "\n",
    "# Calculate Mean Absolute Error on the test set\n",
    "mae = mean_absolute_error(Y_test, predictions)\n",
    "print(f'Mean Absolute Error on Test Data: {mae}')\n"
   ]
  },
  {
   "cell_type": "markdown",
   "id": "82c98fdb",
   "metadata": {},
   "source": [
    "# Step 6 - Measure feature importance"
   ]
  },
  {
   "cell_type": "code",
   "execution_count": null,
   "id": "ff11402b",
   "metadata": {},
   "outputs": [],
   "source": [
    "opt.best_estimator_.steps"
   ]
  },
  {
   "cell_type": "code",
   "execution_count": null,
   "id": "120e27dc",
   "metadata": {},
   "outputs": [],
   "source": [
    "from xgboost import plot_importance\n",
    "\n",
    "xgboost_step = opt.best_estimator_.steps[1]\n",
    "xgboost_model = xgboost_step[1]\n",
    "plot_importance(xgboost_model)"
   ]
  },
  {
   "cell_type": "code",
   "execution_count": null,
   "id": "36074dd8",
   "metadata": {},
   "outputs": [],
   "source": []
  }
 ],
 "metadata": {
  "kernelspec": {
   "display_name": "Python 3 (ipykernel)",
   "language": "python",
   "name": "python3"
  },
  "language_info": {
   "codemirror_mode": {
    "name": "ipython",
    "version": 3
   },
   "file_extension": ".py",
   "mimetype": "text/x-python",
   "name": "python",
   "nbconvert_exporter": "python",
   "pygments_lexer": "ipython3",
   "version": "3.10.9"
  }
 },
 "nbformat": 4,
 "nbformat_minor": 5
}
